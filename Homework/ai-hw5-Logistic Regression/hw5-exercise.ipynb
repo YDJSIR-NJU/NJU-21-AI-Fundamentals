{
 "cells": [
  {
   "cell_type": "markdown",
   "metadata": {},
   "source": [
    "## HW5 logistic_regression（逻辑回归作业练习）\n",
    "\n",
    "### <font color=brown> 本次作业包括两个练习</font>\n",
    "### 练习1: 使用逻辑回归模型来对学生是否能被大学录取进行预测。\n",
    "### 已知数据集中包含两次测试成绩exam1 和 exam2，以及是否被录取的标记 admitted。"
   ]
  },
  {
   "cell_type": "code",
   "execution_count": 1,
   "metadata": {
    "pycharm": {
     "is_executing": false
    }
   },
   "outputs": [],
   "source": [
    "import pandas as pd\n",
    "import numpy as np\n",
    "import matplotlib.pyplot as plt\n",
    "import seaborn as sns\n",
    "from sklearn.metrics import classification_report #这个包是评价报告\n",
    "%matplotlib inline\n",
    "plt.style.use('fivethirtyeight')"
   ]
  },
  {
   "cell_type": "markdown",
   "metadata": {},
   "source": [
    "### 1.1 准备数据"
   ]
  },
  {
   "cell_type": "code",
   "execution_count": 2,
   "metadata": {},
   "outputs": [
    {
     "name": "stdout",
     "output_type": "stream",
     "text": [
      "191250186 余东骏\n"
     ]
    },
    {
     "data": {
      "text/html": [
       "<div>\n",
       "<style scoped>\n",
       "    .dataframe tbody tr th:only-of-type {\n",
       "        vertical-align: middle;\n",
       "    }\n",
       "\n",
       "    .dataframe tbody tr th {\n",
       "        vertical-align: top;\n",
       "    }\n",
       "\n",
       "    .dataframe thead th {\n",
       "        text-align: right;\n",
       "    }\n",
       "</style>\n",
       "<table border=\"1\" class=\"dataframe\">\n",
       "  <thead>\n",
       "    <tr style=\"text-align: right;\">\n",
       "      <th></th>\n",
       "      <th>exam1</th>\n",
       "      <th>exam2</th>\n",
       "      <th>admitted</th>\n",
       "    </tr>\n",
       "  </thead>\n",
       "  <tbody>\n",
       "    <tr>\n",
       "      <th>0</th>\n",
       "      <td>34.623660</td>\n",
       "      <td>78.024693</td>\n",
       "      <td>0</td>\n",
       "    </tr>\n",
       "    <tr>\n",
       "      <th>1</th>\n",
       "      <td>30.286711</td>\n",
       "      <td>43.894998</td>\n",
       "      <td>0</td>\n",
       "    </tr>\n",
       "    <tr>\n",
       "      <th>2</th>\n",
       "      <td>35.847409</td>\n",
       "      <td>72.902198</td>\n",
       "      <td>0</td>\n",
       "    </tr>\n",
       "    <tr>\n",
       "      <th>3</th>\n",
       "      <td>60.182599</td>\n",
       "      <td>86.308552</td>\n",
       "      <td>1</td>\n",
       "    </tr>\n",
       "    <tr>\n",
       "      <th>4</th>\n",
       "      <td>79.032736</td>\n",
       "      <td>75.344376</td>\n",
       "      <td>1</td>\n",
       "    </tr>\n",
       "  </tbody>\n",
       "</table>\n",
       "</div>"
      ],
      "text/plain": [
       "       exam1      exam2  admitted\n",
       "0  34.623660  78.024693         0\n",
       "1  30.286711  43.894998         0\n",
       "2  35.847409  72.902198         0\n",
       "3  60.182599  86.308552         1\n",
       "4  79.032736  75.344376         1"
      ]
     },
     "execution_count": 2,
     "metadata": {},
     "output_type": "execute_result"
    }
   ],
   "source": [
    "print(\"\")  #  双引号内替换成你的学号和姓名\n",
    "data = pd.read_csv('hw5data1.txt', names=['exam1', 'exam2', 'admitted'])\n",
    "data.head()#看前五行"
   ]
  },
  {
   "cell_type": "code",
   "execution_count": 3,
   "metadata": {},
   "outputs": [
    {
     "data": {
      "text/html": [
       "<div>\n",
       "<style scoped>\n",
       "    .dataframe tbody tr th:only-of-type {\n",
       "        vertical-align: middle;\n",
       "    }\n",
       "\n",
       "    .dataframe tbody tr th {\n",
       "        vertical-align: top;\n",
       "    }\n",
       "\n",
       "    .dataframe thead th {\n",
       "        text-align: right;\n",
       "    }\n",
       "</style>\n",
       "<table border=\"1\" class=\"dataframe\">\n",
       "  <thead>\n",
       "    <tr style=\"text-align: right;\">\n",
       "      <th></th>\n",
       "      <th>exam1</th>\n",
       "      <th>exam2</th>\n",
       "      <th>admitted</th>\n",
       "    </tr>\n",
       "  </thead>\n",
       "  <tbody>\n",
       "    <tr>\n",
       "      <th>count</th>\n",
       "      <td>100.000000</td>\n",
       "      <td>100.000000</td>\n",
       "      <td>100.000000</td>\n",
       "    </tr>\n",
       "    <tr>\n",
       "      <th>mean</th>\n",
       "      <td>65.644274</td>\n",
       "      <td>66.221998</td>\n",
       "      <td>0.600000</td>\n",
       "    </tr>\n",
       "    <tr>\n",
       "      <th>std</th>\n",
       "      <td>19.458222</td>\n",
       "      <td>18.582783</td>\n",
       "      <td>0.492366</td>\n",
       "    </tr>\n",
       "    <tr>\n",
       "      <th>min</th>\n",
       "      <td>30.058822</td>\n",
       "      <td>30.603263</td>\n",
       "      <td>0.000000</td>\n",
       "    </tr>\n",
       "    <tr>\n",
       "      <th>25%</th>\n",
       "      <td>50.919511</td>\n",
       "      <td>48.179205</td>\n",
       "      <td>0.000000</td>\n",
       "    </tr>\n",
       "    <tr>\n",
       "      <th>50%</th>\n",
       "      <td>67.032988</td>\n",
       "      <td>67.682381</td>\n",
       "      <td>1.000000</td>\n",
       "    </tr>\n",
       "    <tr>\n",
       "      <th>75%</th>\n",
       "      <td>80.212529</td>\n",
       "      <td>79.360605</td>\n",
       "      <td>1.000000</td>\n",
       "    </tr>\n",
       "    <tr>\n",
       "      <th>max</th>\n",
       "      <td>99.827858</td>\n",
       "      <td>98.869436</td>\n",
       "      <td>1.000000</td>\n",
       "    </tr>\n",
       "  </tbody>\n",
       "</table>\n",
       "</div>"
      ],
      "text/plain": [
       "            exam1       exam2    admitted\n",
       "count  100.000000  100.000000  100.000000\n",
       "mean    65.644274   66.221998    0.600000\n",
       "std     19.458222   18.582783    0.492366\n",
       "min     30.058822   30.603263    0.000000\n",
       "25%     50.919511   48.179205    0.000000\n",
       "50%     67.032988   67.682381    1.000000\n",
       "75%     80.212529   79.360605    1.000000\n",
       "max     99.827858   98.869436    1.000000"
      ]
     },
     "execution_count": 3,
     "metadata": {},
     "output_type": "execute_result"
    }
   ],
   "source": [
    "data.describe()"
   ]
  },
  {
   "cell_type": "code",
   "execution_count": 4,
   "metadata": {},
   "outputs": [
    {
     "name": "stderr",
     "output_type": "stream",
     "text": [
      "C:\\ProgramData\\Anaconda3\\lib\\site-packages\\seaborn\\_decorators.py:36: FutureWarning: Pass the following variables as keyword args: x, y. From version 0.12, the only valid positional argument will be `data`, and passing other arguments without an explicit keyword will result in an error or misinterpretation.\n",
      "  warnings.warn(\n"
     ]
    },
    {
     "data": {
      "image/png": "[encoded data removed]",
      "text/plain": [
       "<Figure size 486.8x432 with 1 Axes>"
      ]
     },
     "metadata": {},
     "output_type": "display_data"
    }
   ],
   "source": [
    "# 关于 SeaBorn 画图，可参考：https://www.jianshu.com/p/5ff47c7d0cc9\n",
    "\n",
    "sns.set(context=\"notebook\", style=\"darkgrid\", color_codes=False, palette=sns.color_palette(\"RdBu\", 2))\n",
    "\n",
    "sns.lmplot('exam1', 'exam2', hue='admitted', data=data, \n",
    "           height=6, \n",
    "           fit_reg=False, \n",
    "           scatter_kws={\"s\": 50}\n",
    "          )\n",
    "plt.show()  #看一下数据的样子"
   ]
  },
  {
   "cell_type": "code",
   "execution_count": 5,
   "metadata": {},
   "outputs": [],
   "source": [
    "def get_X(df):#读取特征\n",
    "#     \"\"\"\n",
    "#     use concat to add intersect feature to avoid side effect\n",
    "#     not efficient for big dataset though\n",
    "#     \"\"\"\n",
    "    ones = pd.DataFrame({'ones': np.ones(len(df))}) # ones是m行1列的dataframe\n",
    "    data = pd.concat([ones, df], axis=1)            # 合并数据，根据列合并\n",
    "    return data.iloc[:, :-1].values                 # 这个操作返回 ndarray,不是矩阵\n",
    "\n",
    "\n",
    "def get_y(df):#读取标签\n",
    "#     '''assume the last column is the target'''\n",
    "    return np.array(df.iloc[:, -1])                # df.iloc[:, -1]是指df的最后一列\n",
    "\n",
    "\n",
    "def normalize_feature(df):\n",
    "#     \"\"\"Applies function along input axis(default 0) of DataFrame.\"\"\"\n",
    "    return df.apply(lambda column: (column - column.mean()) / column.std())  # 特征缩放"
   ]
  },
  {
   "cell_type": "code",
   "execution_count": 6,
   "metadata": {},
   "outputs": [
    {
     "name": "stdout",
     "output_type": "stream",
     "text": [
      "(100, 3)\n",
      "(100,)\n"
     ]
    }
   ],
   "source": [
    "X = get_X(data)\n",
    "print(X.shape)\n",
    "# print(X)\n",
    "\n",
    "y = get_y(data)\n",
    "print(y.shape)"
   ]
  },
  {
   "cell_type": "markdown",
   "metadata": {
    "collapsed": true
   },
   "source": [
    "### 1.2 sigmoid 函数\n",
    "g 代表一个常用的逻辑函数（logistic function）为S形函数（Sigmoid function），公式为： \\\\[g\\left( z \\right)=\\frac{1}{1+{{e}^{-z}}}\\\\] \n",
    "合起来，我们得到逻辑回归模型的假设函数： \n",
    "\t\\\\[{{h}_{\\theta }}\\left( x \\right)=\\frac{1}{1+{{e}^{-{{\\theta }^{T}}X}}}\\\\] \n"
   ]
  },
  {
   "cell_type": "code",
   "execution_count": 7,
   "metadata": {},
   "outputs": [],
   "source": [
    "## 实现sigmoid 函数\n",
    "def sigmoid(z):\n",
    "    return 1/(1+np.exp(-z))                              ## 补充YOUR_CODE处的代码"
   ]
  },
  {
   "cell_type": "code",
   "execution_count": 8,
   "metadata": {
    "scrolled": false
   },
   "outputs": [
    {
     "data": {
      "image/png": "[encoded data removed]",
      "text/plain": [
       "<Figure size 432x288 with 1 Axes>"
      ]
     },
     "metadata": {},
     "output_type": "display_data"
    }
   ],
   "source": [
    "fig, ax = plt.subplots(figsize=(6, 4))\n",
    "ax.plot(np.arange(-10, 10, step=0.01),\n",
    "        sigmoid(np.arange(-10, 10, step=0.01))) \n",
    "# print(type(sigmoid(np.arange(-10, 10, step=0.01)))) # 这里可以直接传一个ndarray进去，出来的也还是一个ndarray\n",
    "ax.set_ylim((-0.1,1.1))\n",
    "ax.set_xlabel('z', fontsize=18)\n",
    "ax.set_ylabel('g(z)', fontsize=18)\n",
    "ax.set_title('sigmoid function', fontsize=18)\n",
    "plt.show()"
   ]
  },
  {
   "cell_type": "markdown",
   "metadata": {},
   "source": [
    "### 1.3 cost function(交叉熵代价函数)\n",
    "> * $max(\\ell(\\theta)) = min(-\\ell(\\theta))$  \n",
    "> * choose $-\\ell(\\theta)$ as the cost function\n",
    "\n",
    "$$\\begin{align}\n",
    "  & J\\left( \\theta  \\right)=-\\frac{1}{m}\\sum\\limits_{i=1}^{m}{[{{y}^{(i)}}\\log \\left( {{h}_{\\theta }}\\left( {{x}^{(i)}} \\right) \\right)+\\left( 1-{{y}^{(i)}} \\right)\\log \\left( 1-{{h}_{\\theta }}\\left( {{x}^{(i)}} \\right) \\right)]} \\\\ \n",
    " & =\\frac{1}{m}\\sum\\limits_{i=1}^{m}{[-{{y}^{(i)}}\\log \\left( {{h}_{\\theta }}\\left( {{x}^{(i)}} \\right) \\right)-\\left( 1-{{y}^{(i)}} \\right)\\log \\left( 1-{{h}_{\\theta }}\\left( {{x}^{(i)}} \\right) \\right)]} \\\\ \n",
    "\\end{align}$$\n"
   ]
  },
  {
   "cell_type": "code",
   "execution_count": 9,
   "metadata": {},
   "outputs": [
    {
     "data": {
      "text/plain": [
       "array([0., 0., 0.])"
      ]
     },
     "execution_count": 9,
     "metadata": {},
     "output_type": "execute_result"
    }
   ],
   "source": [
    "theta = np.zeros(3) # X(m*n) so theta is n*1，\n",
    "theta"
   ]
  },
  {
   "cell_type": "code",
   "execution_count": 10,
   "metadata": {},
   "outputs": [],
   "source": [
    "## 实现代价函数 cost\n",
    "def cost(theta, X, y):\n",
    "    res = np.sum((-y)@(np.log(sigmoid(X@theta)))-(1-y)@(np.log(1-sigmoid(X@theta))))/ (len(X))\n",
    "    return res                               ## 补充YOUR_CODE处的代码\n",
    "\n",
    "# X @ theta与X.dot(theta)等价"
   ]
  },
  {
   "cell_type": "code",
   "execution_count": 11,
   "metadata": {},
   "outputs": [
    {
     "data": {
      "text/plain": [
       "0.6931471805599452"
      ]
     },
     "execution_count": 11,
     "metadata": {},
     "output_type": "execute_result"
    }
   ],
   "source": [
    "cost(theta, X, y)"
   ]
  },
  {
   "cell_type": "markdown",
   "metadata": {},
   "source": [
    "### 1.4 gradient 函数(梯度函数)\n",
    "* 梯度计算$\\frac{1}{m} X^T( Sigmoid(X\\theta) - y )$\n",
    "$$\\frac{\\partial J\\left( \\theta  \\right)}{\\partial {{\\theta }_{j}}}=\\frac{1}{m}\\sum\\limits_{i=1}^{m}{({{h}_{\\theta }}\\left( {{x}^{(i)}} \\right)-{{y}^{(i)}})x_{_{j}}^{(i)}}$$"
   ]
  },
  {
   "cell_type": "code",
   "execution_count": 12,
   "metadata": {},
   "outputs": [],
   "source": [
    "## 实现梯度计算函数 gradient\n",
    "def gradient(theta, X, y):\n",
    "    res = (X.T)@((sigmoid(X@theta)-y))/(len(X))\n",
    "    return res                               ## 补充YOUR_CODE处的代码"
   ]
  },
  {
   "cell_type": "code",
   "execution_count": 13,
   "metadata": {},
   "outputs": [
    {
     "data": {
      "text/plain": [
       "array([ -0.1       , -12.00921659, -11.26284221])"
      ]
     },
     "execution_count": 13,
     "metadata": {},
     "output_type": "execute_result"
    }
   ],
   "source": [
    "gradient(theta, X, y)"
   ]
  },
  {
   "cell_type": "markdown",
   "metadata": {
    "collapsed": true
   },
   "source": [
    "### 1.5 拟合参数\n",
    "* <font color=Brow>这里我们不使用梯度下降法，改用 [`scipy.optimize.minimize`](http://docs.scipy.org/doc/scipy/reference/generated/scipy.optimize.minimize.html#scipy.optimize.minimize) 去计算参数</font>  \n"
   ]
  },
  {
   "cell_type": "code",
   "execution_count": 14,
   "metadata": {},
   "outputs": [],
   "source": [
    "import scipy.optimize as opt"
   ]
  },
  {
   "cell_type": "code",
   "execution_count": 15,
   "metadata": {},
   "outputs": [],
   "source": [
    "res = opt.minimize(fun=cost, x0=theta, args=(X, y), method='Newton-CG', jac=gradient)"
   ]
  },
  {
   "cell_type": "code",
   "execution_count": 16,
   "metadata": {},
   "outputs": [
    {
     "name": "stdout",
     "output_type": "stream",
     "text": [
      "     fun: 0.2034977015894895\n",
      "     jac: array([-4.33738420e-07, -2.47262193e-05, -2.84907400e-05])\n",
      " message: 'Optimization terminated successfully.'\n",
      "    nfev: 72\n",
      "    nhev: 0\n",
      "     nit: 29\n",
      "    njev: 199\n",
      "  status: 0\n",
      " success: True\n",
      "       x: array([-25.16135181,   0.20623186,   0.20147175])\n"
     ]
    }
   ],
   "source": [
    "print(res)"
   ]
  },
  {
   "cell_type": "markdown",
   "metadata": {},
   "source": [
    "### 1.6 用训练集预测和验证"
   ]
  },
  {
   "cell_type": "code",
   "execution_count": 17,
   "metadata": {},
   "outputs": [],
   "source": [
    "## 回忆课堂内容，此处的概率如何计算\n",
    "def predict(x, theta):\n",
    "    prob = sigmoid(x@theta)                               ## 补充YOUR_CODE处的代码\n",
    "    return (prob >= 0.5).astype(int)"
   ]
  },
  {
   "cell_type": "code",
   "execution_count": 18,
   "metadata": {},
   "outputs": [
    {
     "name": "stdout",
     "output_type": "stream",
     "text": [
      "              precision    recall  f1-score   support\n",
      "\n",
      "           0       0.87      0.85      0.86        40\n",
      "           1       0.90      0.92      0.91        60\n",
      "\n",
      "    accuracy                           0.89       100\n",
      "   macro avg       0.89      0.88      0.88       100\n",
      "weighted avg       0.89      0.89      0.89       100\n",
      "\n"
     ]
    }
   ],
   "source": [
    "final_theta = res.x\n",
    "y_pred = predict(X, final_theta)\n",
    "\n",
    "print(classification_report(y, y_pred))\n",
    "## 此处的classification_report函数将根据真值y与预测值y_pred，输出分析报告"
   ]
  },
  {
   "cell_type": "markdown",
   "metadata": {},
   "source": [
    "### 1.7 寻找决策边界\n",
    "\n",
    "* $\\theta^T x = 0$ (一个样本$x$)\n",
    "* $X \\theta = 0$ (所有训练样本$X$)"
   ]
  },
  {
   "cell_type": "code",
   "execution_count": 19,
   "metadata": {},
   "outputs": [
    {
     "name": "stdout",
     "output_type": "stream",
     "text": [
      "[-25.16135181   0.20623186   0.20147175]\n"
     ]
    },
    {
     "data": {
      "text/plain": [
       "0.2014717480030193"
      ]
     },
     "execution_count": 19,
     "metadata": {},
     "output_type": "execute_result"
    }
   ],
   "source": [
    "print(res.x) # this is final theta\n",
    "res.x[2]"
   ]
  },
  {
   "cell_type": "code",
   "execution_count": 20,
   "metadata": {
    "scrolled": true
   },
   "outputs": [
    {
     "name": "stdout",
     "output_type": "stream",
     "text": [
      "[  0.   1.   2.   3.   4.   5.   6.   7.   8.   9.  10.  11.  12.  13.\n",
      "  14.  15.  16.  17.  18.  19.  20.  21.  22.  23.  24.  25.  26.  27.\n",
      "  28.  29.  30.  31.  32.  33.  34.  35.  36.  37.  38.  39.  40.  41.\n",
      "  42.  43.  44.  45.  46.  47.  48.  49.  50.  51.  52.  53.  54.  55.\n",
      "  56.  57.  58.  59.  60.  61.  62.  63.  64.  65.  66.  67.  68.  69.\n",
      "  70.  71.  72.  73.  74.  75.  76.  77.  78.  79.  80.  81.  82.  83.\n",
      "  84.  85.  86.  87.  88.  89.  90.  91.  92.  93.  94.  95.  96.  97.\n",
      "  98.  99. 100. 101. 102. 103. 104. 105. 106. 107. 108. 109. 110. 111.\n",
      " 112. 113. 114. 115. 116. 117. 118. 119. 120. 121. 122.]\n"
     ]
    }
   ],
   "source": [
    "#YOUR_CODE begin\n",
    "    #此处补充4~5行代码，计算x和y的值，用于绘制决策边界\n",
    "x = np.arange(0,-res.x[0]/res.x[1], 1)\n",
    "y = (-res.x[0]-res.x[1]*x)/res.x[2]\n",
    "print(x)\n",
    "\n",
    "#YOUR_CODE end"
   ]
  },
  {
   "cell_type": "code",
   "execution_count": 21,
   "metadata": {},
   "outputs": [
    {
     "data": {
      "text/html": [
       "<div>\n",
       "<style scoped>\n",
       "    .dataframe tbody tr th:only-of-type {\n",
       "        vertical-align: middle;\n",
       "    }\n",
       "\n",
       "    .dataframe tbody tr th {\n",
       "        vertical-align: top;\n",
       "    }\n",
       "\n",
       "    .dataframe thead th {\n",
       "        text-align: right;\n",
       "    }\n",
       "</style>\n",
       "<table border=\"1\" class=\"dataframe\">\n",
       "  <thead>\n",
       "    <tr style=\"text-align: right;\">\n",
       "      <th></th>\n",
       "      <th>exam1</th>\n",
       "      <th>exam2</th>\n",
       "      <th>admitted</th>\n",
       "    </tr>\n",
       "  </thead>\n",
       "  <tbody>\n",
       "    <tr>\n",
       "      <th>count</th>\n",
       "      <td>100.000000</td>\n",
       "      <td>100.000000</td>\n",
       "      <td>100.000000</td>\n",
       "    </tr>\n",
       "    <tr>\n",
       "      <th>mean</th>\n",
       "      <td>65.644274</td>\n",
       "      <td>66.221998</td>\n",
       "      <td>0.600000</td>\n",
       "    </tr>\n",
       "    <tr>\n",
       "      <th>std</th>\n",
       "      <td>19.458222</td>\n",
       "      <td>18.582783</td>\n",
       "      <td>0.492366</td>\n",
       "    </tr>\n",
       "    <tr>\n",
       "      <th>min</th>\n",
       "      <td>30.058822</td>\n",
       "      <td>30.603263</td>\n",
       "      <td>0.000000</td>\n",
       "    </tr>\n",
       "    <tr>\n",
       "      <th>25%</th>\n",
       "      <td>50.919511</td>\n",
       "      <td>48.179205</td>\n",
       "      <td>0.000000</td>\n",
       "    </tr>\n",
       "    <tr>\n",
       "      <th>50%</th>\n",
       "      <td>67.032988</td>\n",
       "      <td>67.682381</td>\n",
       "      <td>1.000000</td>\n",
       "    </tr>\n",
       "    <tr>\n",
       "      <th>75%</th>\n",
       "      <td>80.212529</td>\n",
       "      <td>79.360605</td>\n",
       "      <td>1.000000</td>\n",
       "    </tr>\n",
       "    <tr>\n",
       "      <th>max</th>\n",
       "      <td>99.827858</td>\n",
       "      <td>98.869436</td>\n",
       "      <td>1.000000</td>\n",
       "    </tr>\n",
       "  </tbody>\n",
       "</table>\n",
       "</div>"
      ],
      "text/plain": [
       "            exam1       exam2    admitted\n",
       "count  100.000000  100.000000  100.000000\n",
       "mean    65.644274   66.221998    0.600000\n",
       "std     19.458222   18.582783    0.492366\n",
       "min     30.058822   30.603263    0.000000\n",
       "25%     50.919511   48.179205    0.000000\n",
       "50%     67.032988   67.682381    1.000000\n",
       "75%     80.212529   79.360605    1.000000\n",
       "max     99.827858   98.869436    1.000000"
      ]
     },
     "execution_count": 21,
     "metadata": {},
     "output_type": "execute_result"
    }
   ],
   "source": [
    "data.describe()  # find the range of x and y"
   ]
  },
  {
   "cell_type": "code",
   "execution_count": 22,
   "metadata": {},
   "outputs": [
    {
     "name": "stderr",
     "output_type": "stream",
     "text": [
      "C:\\ProgramData\\Anaconda3\\lib\\site-packages\\seaborn\\_decorators.py:36: FutureWarning: Pass the following variables as keyword args: x, y. From version 0.12, the only valid positional argument will be `data`, and passing other arguments without an explicit keyword will result in an error or misinterpretation.\n",
      "  warnings.warn(\n"
     ]
    },
    {
     "data": {
      "image/png": "[encoded data removed]",
      "text/plain": [
       "<Figure size 514.45x432 with 1 Axes>"
      ]
     },
     "metadata": {},
     "output_type": "display_data"
    }
   ],
   "source": [
    "sns.set(context=\"notebook\", style=\"ticks\", font_scale=1.5)\n",
    "\n",
    "sns.lmplot('exam1', 'exam2', hue='admitted', data=data, \n",
    "           height=6, \n",
    "           fit_reg=False, \n",
    "           scatter_kws={\"s\": 25}\n",
    "          )\n",
    "\n",
    "plt.plot(x, y, 'grey')\n",
    "plt.xlim(0, 130)\n",
    "plt.ylim(0, 130)\n",
    "plt.title('Decision Boundary')\n",
    "plt.show()"
   ]
  },
  {
   "cell_type": "markdown",
   "metadata": {
    "collapsed": true
   },
   "source": [
    "## 2 正则化逻辑回归\n",
    "### 练习2: 使用正则化逻辑回归模型来对芯片是否能通过质检进行预测。\n",
    "### 已知数据集中包含两次检测成绩test1 和 test2，以及是否通过质检的标记 accepted。\n",
    "### 2.1 准备数据"
   ]
  },
  {
   "cell_type": "code",
   "execution_count": 23,
   "metadata": {},
   "outputs": [
    {
     "data": {
      "text/html": [
       "<div>\n",
       "<style scoped>\n",
       "    .dataframe tbody tr th:only-of-type {\n",
       "        vertical-align: middle;\n",
       "    }\n",
       "\n",
       "    .dataframe tbody tr th {\n",
       "        vertical-align: top;\n",
       "    }\n",
       "\n",
       "    .dataframe thead th {\n",
       "        text-align: right;\n",
       "    }\n",
       "</style>\n",
       "<table border=\"1\" class=\"dataframe\">\n",
       "  <thead>\n",
       "    <tr style=\"text-align: right;\">\n",
       "      <th></th>\n",
       "      <th>test1</th>\n",
       "      <th>test2</th>\n",
       "      <th>accepted</th>\n",
       "    </tr>\n",
       "  </thead>\n",
       "  <tbody>\n",
       "    <tr>\n",
       "      <th>0</th>\n",
       "      <td>0.051267</td>\n",
       "      <td>0.69956</td>\n",
       "      <td>1</td>\n",
       "    </tr>\n",
       "    <tr>\n",
       "      <th>1</th>\n",
       "      <td>-0.092742</td>\n",
       "      <td>0.68494</td>\n",
       "      <td>1</td>\n",
       "    </tr>\n",
       "    <tr>\n",
       "      <th>2</th>\n",
       "      <td>-0.213710</td>\n",
       "      <td>0.69225</td>\n",
       "      <td>1</td>\n",
       "    </tr>\n",
       "    <tr>\n",
       "      <th>3</th>\n",
       "      <td>-0.375000</td>\n",
       "      <td>0.50219</td>\n",
       "      <td>1</td>\n",
       "    </tr>\n",
       "    <tr>\n",
       "      <th>4</th>\n",
       "      <td>-0.513250</td>\n",
       "      <td>0.46564</td>\n",
       "      <td>1</td>\n",
       "    </tr>\n",
       "  </tbody>\n",
       "</table>\n",
       "</div>"
      ],
      "text/plain": [
       "      test1    test2  accepted\n",
       "0  0.051267  0.69956         1\n",
       "1 -0.092742  0.68494         1\n",
       "2 -0.213710  0.69225         1\n",
       "3 -0.375000  0.50219         1\n",
       "4 -0.513250  0.46564         1"
      ]
     },
     "execution_count": 23,
     "metadata": {},
     "output_type": "execute_result"
    }
   ],
   "source": [
    "df = pd.read_csv('hw5data2.txt', names=['test1', 'test2', 'accepted'])\n",
    "df.head()"
   ]
  },
  {
   "cell_type": "code",
   "execution_count": 24,
   "metadata": {},
   "outputs": [
    {
     "name": "stderr",
     "output_type": "stream",
     "text": [
      "C:\\ProgramData\\Anaconda3\\lib\\site-packages\\seaborn\\_decorators.py:36: FutureWarning: Pass the following variables as keyword args: x, y. From version 0.12, the only valid positional argument will be `data`, and passing other arguments without an explicit keyword will result in an error or misinterpretation.\n",
      "  warnings.warn(\n"
     ]
    },
    {
     "data": {
      "image/png": "[encoded data removed]",
      "text/plain": [
       "<Figure size 446.325x360 with 1 Axes>"
      ]
     },
     "metadata": {},
     "output_type": "display_data"
    }
   ],
   "source": [
    "sns.set(context=\"notebook\", style=\"ticks\", font_scale=1.5)\n",
    "\n",
    "sns.lmplot('test1', 'test2', hue='accepted', data=df, \n",
    "           height=5, \n",
    "           fit_reg=False, \n",
    "           scatter_kws={\"s\": 50}\n",
    "          )\n",
    "\n",
    "plt.title('Regularized Logistic Regression')\n",
    "plt.show()"
   ]
  },
  {
   "cell_type": "markdown",
   "metadata": {},
   "source": [
    "### 2.2 feature mapping（特征映射）\n",
    "\n",
    "* 我们进行多项式扩展来构造特征\n",
    "polynomial expansion\n",
    "\n",
    "```\n",
    "for i in 0..i\n",
    "  for p in 0..i:\n",
    "    output x^(i-p) * y^p\n",
    "```\n",
    "<img style=\"float: left;\" src=\"mapped_feature.png\">"
   ]
  },
  {
   "cell_type": "code",
   "execution_count": 25,
   "metadata": {},
   "outputs": [],
   "source": [
    "def feature_mapping(x, y, power, as_ndarray=False):\n",
    "    #     \"\"\"return mapped features as ndarray or dataframe\"\"\"\n",
    "    # data = {}\n",
    "    # # inclusive\n",
    "    # for i in np.arange(power + 1):\n",
    "    #     for p in np.arange(i + 1):\n",
    "    #         data[\"f{}{}\".format(i - p, p)] = np.power(x, i - p) * np.power(y, p)\n",
    "    #     暴力遍历\n",
    "\n",
    "    data = {\"f{}{}\".format(i - p, p): np.power(x, i - p) * np.power(y, p) #写得很精妙\n",
    "                for i in np.arange(power + 1)\n",
    "                for p in np.arange(i + 1)\n",
    "            }\n",
    "\n",
    "    if as_ndarray:\n",
    "        return pd.DataFrame(data).to_numpy()\n",
    "    else:\n",
    "        return pd.DataFrame(data)\n"
   ]
  },
  {
   "cell_type": "code",
   "execution_count": 26,
   "metadata": {},
   "outputs": [],
   "source": [
    "x1 = np.array(df.test1)\n",
    "x2 = np.array(df.test2)"
   ]
  },
  {
   "cell_type": "code",
   "execution_count": 27,
   "metadata": {},
   "outputs": [
    {
     "name": "stdout",
     "output_type": "stream",
     "text": [
      "(118, 28)\n"
     ]
    },
    {
     "data": {
      "text/html": [
       "<div>\n",
       "<style scoped>\n",
       "    .dataframe tbody tr th:only-of-type {\n",
       "        vertical-align: middle;\n",
       "    }\n",
       "\n",
       "    .dataframe tbody tr th {\n",
       "        vertical-align: top;\n",
       "    }\n",
       "\n",
       "    .dataframe thead th {\n",
       "        text-align: right;\n",
       "    }\n",
       "</style>\n",
       "<table border=\"1\" class=\"dataframe\">\n",
       "  <thead>\n",
       "    <tr style=\"text-align: right;\">\n",
       "      <th></th>\n",
       "      <th>f00</th>\n",
       "      <th>f10</th>\n",
       "      <th>f01</th>\n",
       "      <th>f20</th>\n",
       "      <th>f11</th>\n",
       "      <th>f02</th>\n",
       "      <th>f30</th>\n",
       "      <th>f21</th>\n",
       "      <th>f12</th>\n",
       "      <th>f03</th>\n",
       "      <th>...</th>\n",
       "      <th>f23</th>\n",
       "      <th>f14</th>\n",
       "      <th>f05</th>\n",
       "      <th>f60</th>\n",
       "      <th>f51</th>\n",
       "      <th>f42</th>\n",
       "      <th>f33</th>\n",
       "      <th>f24</th>\n",
       "      <th>f15</th>\n",
       "      <th>f06</th>\n",
       "    </tr>\n",
       "  </thead>\n",
       "  <tbody>\n",
       "    <tr>\n",
       "      <th>0</th>\n",
       "      <td>1.0</td>\n",
       "      <td>0.051267</td>\n",
       "      <td>0.69956</td>\n",
       "      <td>0.002628</td>\n",
       "      <td>0.035864</td>\n",
       "      <td>0.489384</td>\n",
       "      <td>0.000135</td>\n",
       "      <td>0.001839</td>\n",
       "      <td>0.025089</td>\n",
       "      <td>0.342354</td>\n",
       "      <td>...</td>\n",
       "      <td>0.000900</td>\n",
       "      <td>0.012278</td>\n",
       "      <td>0.167542</td>\n",
       "      <td>1.815630e-08</td>\n",
       "      <td>2.477505e-07</td>\n",
       "      <td>0.000003</td>\n",
       "      <td>0.000046</td>\n",
       "      <td>0.000629</td>\n",
       "      <td>0.008589</td>\n",
       "      <td>0.117206</td>\n",
       "    </tr>\n",
       "    <tr>\n",
       "      <th>1</th>\n",
       "      <td>1.0</td>\n",
       "      <td>-0.092742</td>\n",
       "      <td>0.68494</td>\n",
       "      <td>0.008601</td>\n",
       "      <td>-0.063523</td>\n",
       "      <td>0.469143</td>\n",
       "      <td>-0.000798</td>\n",
       "      <td>0.005891</td>\n",
       "      <td>-0.043509</td>\n",
       "      <td>0.321335</td>\n",
       "      <td>...</td>\n",
       "      <td>0.002764</td>\n",
       "      <td>-0.020412</td>\n",
       "      <td>0.150752</td>\n",
       "      <td>6.362953e-07</td>\n",
       "      <td>-4.699318e-06</td>\n",
       "      <td>0.000035</td>\n",
       "      <td>-0.000256</td>\n",
       "      <td>0.001893</td>\n",
       "      <td>-0.013981</td>\n",
       "      <td>0.103256</td>\n",
       "    </tr>\n",
       "    <tr>\n",
       "      <th>2</th>\n",
       "      <td>1.0</td>\n",
       "      <td>-0.213710</td>\n",
       "      <td>0.69225</td>\n",
       "      <td>0.045672</td>\n",
       "      <td>-0.147941</td>\n",
       "      <td>0.479210</td>\n",
       "      <td>-0.009761</td>\n",
       "      <td>0.031616</td>\n",
       "      <td>-0.102412</td>\n",
       "      <td>0.331733</td>\n",
       "      <td>...</td>\n",
       "      <td>0.015151</td>\n",
       "      <td>-0.049077</td>\n",
       "      <td>0.158970</td>\n",
       "      <td>9.526844e-05</td>\n",
       "      <td>-3.085938e-04</td>\n",
       "      <td>0.001000</td>\n",
       "      <td>-0.003238</td>\n",
       "      <td>0.010488</td>\n",
       "      <td>-0.033973</td>\n",
       "      <td>0.110047</td>\n",
       "    </tr>\n",
       "    <tr>\n",
       "      <th>3</th>\n",
       "      <td>1.0</td>\n",
       "      <td>-0.375000</td>\n",
       "      <td>0.50219</td>\n",
       "      <td>0.140625</td>\n",
       "      <td>-0.188321</td>\n",
       "      <td>0.252195</td>\n",
       "      <td>-0.052734</td>\n",
       "      <td>0.070620</td>\n",
       "      <td>-0.094573</td>\n",
       "      <td>0.126650</td>\n",
       "      <td>...</td>\n",
       "      <td>0.017810</td>\n",
       "      <td>-0.023851</td>\n",
       "      <td>0.031940</td>\n",
       "      <td>2.780914e-03</td>\n",
       "      <td>-3.724126e-03</td>\n",
       "      <td>0.004987</td>\n",
       "      <td>-0.006679</td>\n",
       "      <td>0.008944</td>\n",
       "      <td>-0.011978</td>\n",
       "      <td>0.016040</td>\n",
       "    </tr>\n",
       "    <tr>\n",
       "      <th>4</th>\n",
       "      <td>1.0</td>\n",
       "      <td>-0.513250</td>\n",
       "      <td>0.46564</td>\n",
       "      <td>0.263426</td>\n",
       "      <td>-0.238990</td>\n",
       "      <td>0.216821</td>\n",
       "      <td>-0.135203</td>\n",
       "      <td>0.122661</td>\n",
       "      <td>-0.111283</td>\n",
       "      <td>0.100960</td>\n",
       "      <td>...</td>\n",
       "      <td>0.026596</td>\n",
       "      <td>-0.024128</td>\n",
       "      <td>0.021890</td>\n",
       "      <td>1.827990e-02</td>\n",
       "      <td>-1.658422e-02</td>\n",
       "      <td>0.015046</td>\n",
       "      <td>-0.013650</td>\n",
       "      <td>0.012384</td>\n",
       "      <td>-0.011235</td>\n",
       "      <td>0.010193</td>\n",
       "    </tr>\n",
       "  </tbody>\n",
       "</table>\n",
       "<p>5 rows × 28 columns</p>\n",
       "</div>"
      ],
      "text/plain": [
       "   f00       f10      f01       f20       f11       f02       f30       f21  \\\n",
       "0  1.0  0.051267  0.69956  0.002628  0.035864  0.489384  0.000135  0.001839   \n",
       "1  1.0 -0.092742  0.68494  0.008601 -0.063523  0.469143 -0.000798  0.005891   \n",
       "2  1.0 -0.213710  0.69225  0.045672 -0.147941  0.479210 -0.009761  0.031616   \n",
       "3  1.0 -0.375000  0.50219  0.140625 -0.188321  0.252195 -0.052734  0.070620   \n",
       "4  1.0 -0.513250  0.46564  0.263426 -0.238990  0.216821 -0.135203  0.122661   \n",
       "\n",
       "        f12       f03  ...       f23       f14       f05           f60  \\\n",
       "0  0.025089  0.342354  ...  0.000900  0.012278  0.167542  1.815630e-08   \n",
       "1 -0.043509  0.321335  ...  0.002764 -0.020412  0.150752  6.362953e-07   \n",
       "2 -0.102412  0.331733  ...  0.015151 -0.049077  0.158970  9.526844e-05   \n",
       "3 -0.094573  0.126650  ...  0.017810 -0.023851  0.031940  2.780914e-03   \n",
       "4 -0.111283  0.100960  ...  0.026596 -0.024128  0.021890  1.827990e-02   \n",
       "\n",
       "            f51       f42       f33       f24       f15       f06  \n",
       "0  2.477505e-07  0.000003  0.000046  0.000629  0.008589  0.117206  \n",
       "1 -4.699318e-06  0.000035 -0.000256  0.001893 -0.013981  0.103256  \n",
       "2 -3.085938e-04  0.001000 -0.003238  0.010488 -0.033973  0.110047  \n",
       "3 -3.724126e-03  0.004987 -0.006679  0.008944 -0.011978  0.016040  \n",
       "4 -1.658422e-02  0.015046 -0.013650  0.012384 -0.011235  0.010193  \n",
       "\n",
       "[5 rows x 28 columns]"
      ]
     },
     "execution_count": 27,
     "metadata": {},
     "output_type": "execute_result"
    }
   ],
   "source": [
    "data = feature_mapping(x1, x2, power=6)\n",
    "print(data.shape)\n",
    "data.head()"
   ]
  },
  {
   "cell_type": "code",
   "execution_count": 28,
   "metadata": {},
   "outputs": [
    {
     "data": {
      "text/html": [
       "<div>\n",
       "<style scoped>\n",
       "    .dataframe tbody tr th:only-of-type {\n",
       "        vertical-align: middle;\n",
       "    }\n",
       "\n",
       "    .dataframe tbody tr th {\n",
       "        vertical-align: top;\n",
       "    }\n",
       "\n",
       "    .dataframe thead th {\n",
       "        text-align: right;\n",
       "    }\n",
       "</style>\n",
       "<table border=\"1\" class=\"dataframe\">\n",
       "  <thead>\n",
       "    <tr style=\"text-align: right;\">\n",
       "      <th></th>\n",
       "      <th>f00</th>\n",
       "      <th>f10</th>\n",
       "      <th>f01</th>\n",
       "      <th>f20</th>\n",
       "      <th>f11</th>\n",
       "      <th>f02</th>\n",
       "      <th>f30</th>\n",
       "      <th>f21</th>\n",
       "      <th>f12</th>\n",
       "      <th>f03</th>\n",
       "      <th>...</th>\n",
       "      <th>f23</th>\n",
       "      <th>f14</th>\n",
       "      <th>f05</th>\n",
       "      <th>f60</th>\n",
       "      <th>f51</th>\n",
       "      <th>f42</th>\n",
       "      <th>f33</th>\n",
       "      <th>f24</th>\n",
       "      <th>f15</th>\n",
       "      <th>f06</th>\n",
       "    </tr>\n",
       "  </thead>\n",
       "  <tbody>\n",
       "    <tr>\n",
       "      <th>count</th>\n",
       "      <td>118.0</td>\n",
       "      <td>118.000000</td>\n",
       "      <td>118.000000</td>\n",
       "      <td>118.000000</td>\n",
       "      <td>118.000000</td>\n",
       "      <td>118.000000</td>\n",
       "      <td>1.180000e+02</td>\n",
       "      <td>118.000000</td>\n",
       "      <td>118.000000</td>\n",
       "      <td>118.000000</td>\n",
       "      <td>...</td>\n",
       "      <td>118.000000</td>\n",
       "      <td>1.180000e+02</td>\n",
       "      <td>118.000000</td>\n",
       "      <td>1.180000e+02</td>\n",
       "      <td>118.000000</td>\n",
       "      <td>1.180000e+02</td>\n",
       "      <td>118.000000</td>\n",
       "      <td>1.180000e+02</td>\n",
       "      <td>118.000000</td>\n",
       "      <td>1.180000e+02</td>\n",
       "    </tr>\n",
       "    <tr>\n",
       "      <th>mean</th>\n",
       "      <td>1.0</td>\n",
       "      <td>0.054779</td>\n",
       "      <td>0.183102</td>\n",
       "      <td>0.247575</td>\n",
       "      <td>-0.025472</td>\n",
       "      <td>0.301370</td>\n",
       "      <td>5.983333e-02</td>\n",
       "      <td>0.030682</td>\n",
       "      <td>0.015483</td>\n",
       "      <td>0.142350</td>\n",
       "      <td>...</td>\n",
       "      <td>0.018278</td>\n",
       "      <td>4.089084e-03</td>\n",
       "      <td>0.115710</td>\n",
       "      <td>7.837118e-02</td>\n",
       "      <td>-0.000703</td>\n",
       "      <td>1.893340e-02</td>\n",
       "      <td>-0.001705</td>\n",
       "      <td>2.259170e-02</td>\n",
       "      <td>-0.006302</td>\n",
       "      <td>1.257256e-01</td>\n",
       "    </tr>\n",
       "    <tr>\n",
       "      <th>std</th>\n",
       "      <td>0.0</td>\n",
       "      <td>0.496654</td>\n",
       "      <td>0.519743</td>\n",
       "      <td>0.248532</td>\n",
       "      <td>0.224075</td>\n",
       "      <td>0.284536</td>\n",
       "      <td>2.746459e-01</td>\n",
       "      <td>0.134706</td>\n",
       "      <td>0.150143</td>\n",
       "      <td>0.326134</td>\n",
       "      <td>...</td>\n",
       "      <td>0.058513</td>\n",
       "      <td>9.993907e-02</td>\n",
       "      <td>0.299092</td>\n",
       "      <td>1.938621e-01</td>\n",
       "      <td>0.058271</td>\n",
       "      <td>3.430092e-02</td>\n",
       "      <td>0.037443</td>\n",
       "      <td>4.346935e-02</td>\n",
       "      <td>0.090621</td>\n",
       "      <td>2.964416e-01</td>\n",
       "    </tr>\n",
       "    <tr>\n",
       "      <th>min</th>\n",
       "      <td>1.0</td>\n",
       "      <td>-0.830070</td>\n",
       "      <td>-0.769740</td>\n",
       "      <td>0.000040</td>\n",
       "      <td>-0.484096</td>\n",
       "      <td>0.000026</td>\n",
       "      <td>-5.719317e-01</td>\n",
       "      <td>-0.358121</td>\n",
       "      <td>-0.483743</td>\n",
       "      <td>-0.456071</td>\n",
       "      <td>...</td>\n",
       "      <td>-0.142660</td>\n",
       "      <td>-4.830370e-01</td>\n",
       "      <td>-0.270222</td>\n",
       "      <td>6.472253e-14</td>\n",
       "      <td>-0.203971</td>\n",
       "      <td>2.577297e-10</td>\n",
       "      <td>-0.113448</td>\n",
       "      <td>2.418097e-10</td>\n",
       "      <td>-0.482684</td>\n",
       "      <td>1.795116e-14</td>\n",
       "    </tr>\n",
       "    <tr>\n",
       "      <th>25%</th>\n",
       "      <td>1.0</td>\n",
       "      <td>-0.372120</td>\n",
       "      <td>-0.254385</td>\n",
       "      <td>0.043243</td>\n",
       "      <td>-0.178209</td>\n",
       "      <td>0.061086</td>\n",
       "      <td>-5.155632e-02</td>\n",
       "      <td>-0.023672</td>\n",
       "      <td>-0.042980</td>\n",
       "      <td>-0.016492</td>\n",
       "      <td>...</td>\n",
       "      <td>-0.001400</td>\n",
       "      <td>-7.449462e-03</td>\n",
       "      <td>-0.001072</td>\n",
       "      <td>8.086369e-05</td>\n",
       "      <td>-0.006381</td>\n",
       "      <td>1.258285e-04</td>\n",
       "      <td>-0.005749</td>\n",
       "      <td>3.528590e-04</td>\n",
       "      <td>-0.016662</td>\n",
       "      <td>2.298277e-04</td>\n",
       "    </tr>\n",
       "    <tr>\n",
       "      <th>50%</th>\n",
       "      <td>1.0</td>\n",
       "      <td>-0.006336</td>\n",
       "      <td>0.213455</td>\n",
       "      <td>0.165397</td>\n",
       "      <td>-0.016521</td>\n",
       "      <td>0.252195</td>\n",
       "      <td>-2.544062e-07</td>\n",
       "      <td>0.006603</td>\n",
       "      <td>-0.000039</td>\n",
       "      <td>0.009734</td>\n",
       "      <td>...</td>\n",
       "      <td>0.001026</td>\n",
       "      <td>-8.972096e-09</td>\n",
       "      <td>0.000444</td>\n",
       "      <td>4.527344e-03</td>\n",
       "      <td>-0.000004</td>\n",
       "      <td>3.387050e-03</td>\n",
       "      <td>-0.000005</td>\n",
       "      <td>3.921378e-03</td>\n",
       "      <td>-0.000020</td>\n",
       "      <td>1.604015e-02</td>\n",
       "    </tr>\n",
       "    <tr>\n",
       "      <th>75%</th>\n",
       "      <td>1.0</td>\n",
       "      <td>0.478970</td>\n",
       "      <td>0.646562</td>\n",
       "      <td>0.389925</td>\n",
       "      <td>0.100795</td>\n",
       "      <td>0.464189</td>\n",
       "      <td>1.099616e-01</td>\n",
       "      <td>0.086392</td>\n",
       "      <td>0.079510</td>\n",
       "      <td>0.270310</td>\n",
       "      <td>...</td>\n",
       "      <td>0.021148</td>\n",
       "      <td>2.751341e-02</td>\n",
       "      <td>0.113020</td>\n",
       "      <td>5.932959e-02</td>\n",
       "      <td>0.002104</td>\n",
       "      <td>2.090875e-02</td>\n",
       "      <td>0.001024</td>\n",
       "      <td>2.103622e-02</td>\n",
       "      <td>0.001289</td>\n",
       "      <td>1.001215e-01</td>\n",
       "    </tr>\n",
       "    <tr>\n",
       "      <th>max</th>\n",
       "      <td>1.0</td>\n",
       "      <td>1.070900</td>\n",
       "      <td>1.108900</td>\n",
       "      <td>1.146827</td>\n",
       "      <td>0.568307</td>\n",
       "      <td>1.229659</td>\n",
       "      <td>1.228137e+00</td>\n",
       "      <td>0.449251</td>\n",
       "      <td>0.505577</td>\n",
       "      <td>1.363569</td>\n",
       "      <td>...</td>\n",
       "      <td>0.287323</td>\n",
       "      <td>4.012965e-01</td>\n",
       "      <td>1.676725</td>\n",
       "      <td>1.508320e+00</td>\n",
       "      <td>0.250577</td>\n",
       "      <td>2.018260e-01</td>\n",
       "      <td>0.183548</td>\n",
       "      <td>2.556084e-01</td>\n",
       "      <td>0.436209</td>\n",
       "      <td>1.859321e+00</td>\n",
       "    </tr>\n",
       "  </tbody>\n",
       "</table>\n",
       "<p>8 rows × 28 columns</p>\n",
       "</div>"
      ],
      "text/plain": [
       "         f00         f10         f01         f20         f11         f02  \\\n",
       "count  118.0  118.000000  118.000000  118.000000  118.000000  118.000000   \n",
       "mean     1.0    0.054779    0.183102    0.247575   -0.025472    0.301370   \n",
       "std      0.0    0.496654    0.519743    0.248532    0.224075    0.284536   \n",
       "min      1.0   -0.830070   -0.769740    0.000040   -0.484096    0.000026   \n",
       "25%      1.0   -0.372120   -0.254385    0.043243   -0.178209    0.061086   \n",
       "50%      1.0   -0.006336    0.213455    0.165397   -0.016521    0.252195   \n",
       "75%      1.0    0.478970    0.646562    0.389925    0.100795    0.464189   \n",
       "max      1.0    1.070900    1.108900    1.146827    0.568307    1.229659   \n",
       "\n",
       "                f30         f21         f12         f03  ...         f23  \\\n",
       "count  1.180000e+02  118.000000  118.000000  118.000000  ...  118.000000   \n",
       "mean   5.983333e-02    0.030682    0.015483    0.142350  ...    0.018278   \n",
       "std    2.746459e-01    0.134706    0.150143    0.326134  ...    0.058513   \n",
       "min   -5.719317e-01   -0.358121   -0.483743   -0.456071  ...   -0.142660   \n",
       "25%   -5.155632e-02   -0.023672   -0.042980   -0.016492  ...   -0.001400   \n",
       "50%   -2.544062e-07    0.006603   -0.000039    0.009734  ...    0.001026   \n",
       "75%    1.099616e-01    0.086392    0.079510    0.270310  ...    0.021148   \n",
       "max    1.228137e+00    0.449251    0.505577    1.363569  ...    0.287323   \n",
       "\n",
       "                f14         f05           f60         f51           f42  \\\n",
       "count  1.180000e+02  118.000000  1.180000e+02  118.000000  1.180000e+02   \n",
       "mean   4.089084e-03    0.115710  7.837118e-02   -0.000703  1.893340e-02   \n",
       "std    9.993907e-02    0.299092  1.938621e-01    0.058271  3.430092e-02   \n",
       "min   -4.830370e-01   -0.270222  6.472253e-14   -0.203971  2.577297e-10   \n",
       "25%   -7.449462e-03   -0.001072  8.086369e-05   -0.006381  1.258285e-04   \n",
       "50%   -8.972096e-09    0.000444  4.527344e-03   -0.000004  3.387050e-03   \n",
       "75%    2.751341e-02    0.113020  5.932959e-02    0.002104  2.090875e-02   \n",
       "max    4.012965e-01    1.676725  1.508320e+00    0.250577  2.018260e-01   \n",
       "\n",
       "              f33           f24         f15           f06  \n",
       "count  118.000000  1.180000e+02  118.000000  1.180000e+02  \n",
       "mean    -0.001705  2.259170e-02   -0.006302  1.257256e-01  \n",
       "std      0.037443  4.346935e-02    0.090621  2.964416e-01  \n",
       "min     -0.113448  2.418097e-10   -0.482684  1.795116e-14  \n",
       "25%     -0.005749  3.528590e-04   -0.016662  2.298277e-04  \n",
       "50%     -0.000005  3.921378e-03   -0.000020  1.604015e-02  \n",
       "75%      0.001024  2.103622e-02    0.001289  1.001215e-01  \n",
       "max      0.183548  2.556084e-01    0.436209  1.859321e+00  \n",
       "\n",
       "[8 rows x 28 columns]"
      ]
     },
     "execution_count": 28,
     "metadata": {},
     "output_type": "execute_result"
    }
   ],
   "source": [
    "data.describe()"
   ]
  },
  {
   "cell_type": "markdown",
   "metadata": {},
   "source": [
    "### 2.3 regularized cost（正则化代价函数）\n",
    "$$J\\left( \\theta  \\right)=\\frac{1}{m}\\sum\\limits_{i=1}^{m}{[-{{y}^{(i)}}\\log \\left( {{h}_{\\theta }}\\left( {{x}^{(i)}} \\right) \\right)-\\left( 1-{{y}^{(i)}} \\right)\\log \\left( 1-{{h}_{\\theta }}\\left( {{x}^{(i)}} \\right) \\right)]}+\\frac{\\lambda }{2m}\\sum\\limits_{j=1}^{n}{\\theta _{j}^{2}}$$"
   ]
  },
  {
   "cell_type": "code",
   "execution_count": 29,
   "metadata": {},
   "outputs": [
    {
     "name": "stdout",
     "output_type": "stream",
     "text": [
      "(118, 28)\n",
      "(118,)\n"
     ]
    }
   ],
   "source": [
    "theta = np.zeros(data.shape[1])\n",
    "X = feature_mapping(x1, x2, power=6, as_ndarray=True)\n",
    "print(X.shape)\n",
    "\n",
    "y = get_y(df)\n",
    "print(y.shape)"
   ]
  },
  {
   "cell_type": "code",
   "execution_count": 30,
   "metadata": {},
   "outputs": [],
   "source": [
    "## 实现正则化代价函数\n",
    "def regularized_cost(theta, X, y, lambd=1):\n",
    "#YOUR_CODE begin\n",
    "    #此处补充3～4行代码，用于实现正则化代价函数\n",
    "    mainBody = np.sum((-y)@(np.log(sigmoid(X@theta))) - (1-y)@(np.log(1-sigmoid(X@theta)))) / len(X)\n",
    "#     print(mainBody)\n",
    "    res = mainBody + (lambd * np.sum(theta * theta)) / (2 * len(X))\n",
    "    return res\n",
    "#YOUR_CODE end\n",
    "#正则化代价函数"
   ]
  },
  {
   "cell_type": "code",
   "execution_count": 31,
   "metadata": {},
   "outputs": [
    {
     "name": "stdout",
     "output_type": "stream",
     "text": [
      "[0. 0. 0. 0. 0. 0. 0. 0. 0. 0. 0. 0. 0. 0. 0. 0. 0. 0. 0. 0. 0. 0. 0. 0.\n",
      " 0. 0. 0. 0.]\n"
     ]
    },
    {
     "data": {
      "text/plain": [
       "0.6931471805599453"
      ]
     },
     "execution_count": 31,
     "metadata": {},
     "output_type": "execute_result"
    }
   ],
   "source": [
    "print(theta)\n",
    "regularized_cost(theta, X, y, lambd=1)"
   ]
  },
  {
   "cell_type": "markdown",
   "metadata": {},
   "source": [
    "### 2.4 regularized gradient(正则化梯度)\n",
    "$$\\frac{\\partial J\\left( \\theta  \\right)}{\\partial {{\\theta }_{j}}}=\\left( \\frac{1}{m}\\sum\\limits_{i=1}^{m}{\\left( {{h}_{\\theta }}\\left( {{x}^{\\left( i \\right)}} \\right)-{{y}^{\\left( i \\right)}} \\right)} x^{(i)}_{j}\\right)+ \\frac{\\lambda }{m}{{\\theta }_{j}}\\text{ }\\text{for  j}\\ge \\text{1}$$\n",
    "\n",
    "原题干所示公式有误，现已修正"
   ]
  },
  {
   "cell_type": "code",
   "execution_count": 32,
   "metadata": {},
   "outputs": [],
   "source": [
    "## 实现正则化梯度函数\n",
    "def regularized_gradient(theta, X, y, lambd=1):\n",
    "#YOUR_CODE begin\n",
    "    res = ((X.T@(sigmoid(X@theta)-y))+lambd*theta)/len(X)\n",
    "    return res\n",
    "    #此处补充4~5行代码，用于实现正则化梯度函数\n",
    "#YOUR_CODE end"
   ]
  },
  {
   "cell_type": "markdown",
   "metadata": {},
   "source": [
    "### 2.5 拟合参数"
   ]
  },
  {
   "cell_type": "code",
   "execution_count": 33,
   "metadata": {},
   "outputs": [],
   "source": [
    "import scipy.optimize as opt"
   ]
  },
  {
   "cell_type": "code",
   "execution_count": 34,
   "metadata": {},
   "outputs": [
    {
     "name": "stdout",
     "output_type": "stream",
     "text": [
      "init cost = 0.6931471805599453\n"
     ]
    },
    {
     "data": {
      "text/plain": [
       "     fun: 0.5351602503809567\n",
       "     jac: array([ 1.70977877e-09, -5.08408964e-09, -5.64014619e-08, -4.34015105e-08,\n",
       "        2.57887859e-08, -3.36101744e-08, -2.28213067e-10, -1.46520404e-08,\n",
       "        1.55004043e-08, -1.79226755e-08, -1.57387716e-08,  2.67446680e-09,\n",
       "       -1.11202897e-08,  4.77312535e-09,  7.55403055e-10,  4.42062956e-09,\n",
       "       -3.91275171e-09, -1.49251478e-09, -6.09394911e-09,  4.28497247e-09,\n",
       "       -1.41879435e-08, -1.48976531e-08,  9.85540674e-10, -5.79739044e-09,\n",
       "       -3.26552796e-09, -1.84264797e-09, -1.54381914e-10, -1.47733811e-08])\n",
       " message: 'Optimization terminated successfully.'\n",
       "    nfev: 7\n",
       "    nhev: 0\n",
       "     nit: 6\n",
       "    njev: 55\n",
       "  status: 0\n",
       " success: True\n",
       "       x: array([ 1.14213505,  0.60132057,  1.16718381, -1.87174739, -0.91573398,\n",
       "       -1.26953058,  0.12668367, -0.36873077, -0.34518375, -0.17377523,\n",
       "       -1.4238597 , -0.04855671, -0.60641973, -0.26931915, -1.16315875,\n",
       "       -0.24310079, -0.20707361, -0.04318444, -0.28028113, -0.28695641,\n",
       "       -0.4691048 , -1.03618065,  0.02923481, -0.29262238,  0.01736666,\n",
       "       -0.32897214, -0.13795948, -0.93199015])"
      ]
     },
     "execution_count": 34,
     "metadata": {},
     "output_type": "execute_result"
    }
   ],
   "source": [
    "print('init cost = {}'.format(regularized_cost(theta, X, y)))\n",
    "\n",
    "# 此处我们直接使用scipy中的optimize库来进行参数计算\n",
    "res = opt.minimize(fun=regularized_cost, x0=theta, args=(X, y), method='Newton-CG', jac=regularized_gradient)\n",
    "res"
   ]
  },
  {
   "cell_type": "markdown",
   "metadata": {},
   "source": [
    "### 2.6 预测"
   ]
  },
  {
   "cell_type": "code",
   "execution_count": 35,
   "metadata": {},
   "outputs": [
    {
     "name": "stdout",
     "output_type": "stream",
     "text": [
      "              precision    recall  f1-score   support\n",
      "\n",
      "           0       0.88      0.75      0.81        60\n",
      "           1       0.78      0.90      0.83        58\n",
      "\n",
      "    accuracy                           0.82       118\n",
      "   macro avg       0.83      0.82      0.82       118\n",
      "weighted avg       0.83      0.82      0.82       118\n",
      "\n"
     ]
    }
   ],
   "source": [
    "final_theta = res.x\n",
    "y_pred = predict(X, final_theta)\n",
    "\n",
    "print(classification_report(y, y_pred))"
   ]
  },
  {
   "cell_type": "code",
   "execution_count": 36,
   "metadata": {},
   "outputs": [
    {
     "data": {
      "text/plain": [
       "array([8.47457627e-03, 1.87880932e-02, 7.77711864e-05, 5.03446395e-02,\n",
       "       1.15013308e-02, 3.76648474e-02, 1.83559872e-02, 7.32393391e-03,\n",
       "       8.19244468e-03, 2.34764889e-02, 3.93486234e-02, 2.23923907e-03,\n",
       "       1.28600503e-02, 3.09593720e-03, 3.93028171e-02, 1.99707467e-02,\n",
       "       4.32983232e-03, 3.38643902e-03, 5.83822078e-03, 4.47629067e-03,\n",
       "       3.10079849e-02, 3.10312442e-02, 1.09740238e-03, 6.31570797e-03,\n",
       "       4.08503006e-04, 7.26504316e-03, 1.37646175e-03, 3.87936363e-02])"
      ]
     },
     "execution_count": 36,
     "metadata": {},
     "output_type": "execute_result"
    }
   ],
   "source": [
    "regularized_gradient(theta, X, y, 1)"
   ]
  },
  {
   "cell_type": "markdown",
   "metadata": {},
   "source": [
    "### 2.7 使用不同的 $\\lambda$ 对于预测结果的影响\n",
    "* 尝试不同的lambda(0.1,10)对于上述2.6节预测结果的影响，将结果反映在作业报告中。"
   ]
  },
  {
   "cell_type": "markdown",
   "metadata": {},
   "source": [
    "为了让上面的效果更为直观，我们绘图看看`precision`， `recall`，`f1-score` 和 `support` 值随 $\\lambda$ 变化的情况。"
   ]
  },
  {
   "cell_type": "code",
   "execution_count": 44,
   "metadata": {},
   "outputs": [
    {
     "name": "stdout",
     "output_type": "stream",
     "text": [
      "lambda = 0.1\n",
      "              precision    recall  f1-score   support\n",
      "\n",
      "           0       0.87      0.80      0.83        60\n",
      "           1       0.81      0.88      0.84        58\n",
      "\n",
      "    accuracy                           0.84       118\n",
      "   macro avg       0.84      0.84      0.84       118\n",
      "weighted avg       0.84      0.84      0.84       118\n",
      "\n",
      "lambda = 1.2\n",
      "              precision    recall  f1-score   support\n",
      "\n",
      "           0       0.90      0.75      0.82        60\n",
      "           1       0.78      0.91      0.84        58\n",
      "\n",
      "    accuracy                           0.83       118\n",
      "   macro avg       0.84      0.83      0.83       118\n",
      "weighted avg       0.84      0.83      0.83       118\n",
      "\n",
      "lambda = 2.3\n",
      "              precision    recall  f1-score   support\n",
      "\n",
      "           0       0.90      0.75      0.82        60\n",
      "           1       0.78      0.91      0.84        58\n",
      "\n",
      "    accuracy                           0.83       118\n",
      "   macro avg       0.84      0.83      0.83       118\n",
      "weighted avg       0.84      0.83      0.83       118\n",
      "\n",
      "lambda = 3.4\n",
      "              precision    recall  f1-score   support\n",
      "\n",
      "           0       0.87      0.77      0.81        60\n",
      "           1       0.78      0.88      0.83        58\n",
      "\n",
      "    accuracy                           0.82       118\n",
      "   macro avg       0.83      0.82      0.82       118\n",
      "weighted avg       0.83      0.82      0.82       118\n",
      "\n",
      "lambda = 4.5\n",
      "              precision    recall  f1-score   support\n",
      "\n",
      "           0       0.82      0.77      0.79        60\n",
      "           1       0.77      0.83      0.80        58\n",
      "\n",
      "    accuracy                           0.80       118\n",
      "   macro avg       0.80      0.80      0.80       118\n",
      "weighted avg       0.80      0.80      0.80       118\n",
      "\n",
      "lambda = 5.6\n",
      "              precision    recall  f1-score   support\n",
      "\n",
      "           0       0.79      0.75      0.77        60\n",
      "           1       0.75      0.79      0.77        58\n",
      "\n",
      "    accuracy                           0.77       118\n",
      "   macro avg       0.77      0.77      0.77       118\n",
      "weighted avg       0.77      0.77      0.77       118\n",
      "\n",
      "lambda = 6.7\n",
      "              precision    recall  f1-score   support\n",
      "\n",
      "           0       0.78      0.77      0.77        60\n",
      "           1       0.76      0.78      0.77        58\n",
      "\n",
      "    accuracy                           0.77       118\n",
      "   macro avg       0.77      0.77      0.77       118\n",
      "weighted avg       0.77      0.77      0.77       118\n",
      "\n",
      "lambda = 7.8\n",
      "              precision    recall  f1-score   support\n",
      "\n",
      "           0       0.74      0.77      0.75        60\n",
      "           1       0.75      0.72      0.74        58\n",
      "\n",
      "    accuracy                           0.75       118\n",
      "   macro avg       0.75      0.75      0.75       118\n",
      "weighted avg       0.75      0.75      0.75       118\n",
      "\n",
      "lambda = 8.9\n",
      "              precision    recall  f1-score   support\n",
      "\n",
      "           0       0.74      0.77      0.75        60\n",
      "           1       0.75      0.72      0.74        58\n",
      "\n",
      "    accuracy                           0.75       118\n",
      "   macro avg       0.75      0.75      0.75       118\n",
      "weighted avg       0.75      0.75      0.75       118\n",
      "\n",
      "lambda = 10.0\n",
      "              precision    recall  f1-score   support\n",
      "\n",
      "           0       0.74      0.77      0.75        60\n",
      "           1       0.75      0.72      0.74        58\n",
      "\n",
      "    accuracy                           0.75       118\n",
      "   macro avg       0.75      0.75      0.75       118\n",
      "weighted avg       0.75      0.75      0.75       118\n",
      "\n"
     ]
    }
   ],
   "source": [
    "for lambd_test in np.linspace(0.1,10.0,num=10):  #以0.1为起点， 10.0为终点， 1.1为 #调用梯度函数\n",
    "    # 为方便引入变化的lambd\n",
    "    def regularized_gradient(theta, X, y):\n",
    "        res = ((X.T@(sigmoid(X@theta)-y))+lambd_test*theta)/len(X)\n",
    "        return res\n",
    "    # 实现正则化代价函数\n",
    "    def regularized_cost(theta, X, y):\n",
    "        mainBody = np.sum((-y)@(np.log(sigmoid(X@theta))) - (1-y)@(np.log(1-sigmoid(X@theta)))) / len(X)\n",
    "        res = mainBody + (lambd_test * np.sum(theta * theta)) / (2 * len(X))\n",
    "        return res\n",
    "    res = opt.minimize(fun=regularized_cost, x0=theta, args=(X, y), method='Newton-CG', jac=regularized_gradient) # 和上面是一样的\n",
    "    final_theta = res.x \n",
    "    y_pred = predict(X, final_theta)\n",
    "    print(\"lambda =\",'%.1f' % lambd_test) \n",
    "    print(classification_report(y, y_pred))"
   ]
  },
  {
   "cell_type": "markdown",
   "metadata": {},
   "source": [
    "以0.1为起点，10.0为终点，1.1为步长取10个λ ，代码及输出如上所示。结果表明随着$\\lambda$的增大，预测准确性先出现小幅的提高，到$\\lambda$为2.3和1.2时，0和1的`precision`值均达到最大值（精确到小数点后两位），随后逐渐降低。这告诉我们，$\\lambda$必须恰当，否则将适得其反。这样的情况在2.8节中也有体现。欠拟合、恰当拟合与过拟合，是在机器学习中可能出现的问题。"
   ]
  },
  {
   "cell_type": "markdown",
   "metadata": {},
   "source": [
    "### 2.8 画出决策边界\n",
    "* 我们找到所有满足 $X \\theta = 0$ 的$x$\n",
    "* 以下内容不需要完善代码，仅供同学们参考"
   ]
  },
  {
   "cell_type": "code",
   "execution_count": 38,
   "metadata": {},
   "outputs": [],
   "source": [
    "def draw_boundary(power, lambd):\n",
    "#     \"\"\"\n",
    "#     power: polynomial power for mapped feature\n",
    "#     lambd: lambda constant\n",
    "#     \"\"\"\n",
    "    density = 1000 \n",
    "    # 这里曾经尝试过设置为2000，结果运行时间大为增加，被迫改回1000\n",
    "    threshhold = 2 * 10**-3\n",
    "\n",
    "    final_theta = feature_mapped_logistic_regression(power, lambd)\n",
    "    x, y = find_decision_boundary(density, power, final_theta, threshhold)\n",
    "\n",
    "    df = pd.read_csv('hw5data2.txt', names=['test1', 'test2', 'accepted'])\n",
    "    sns.lmplot('test1', 'test2', hue='accepted', data=df, size=5, fit_reg=False, scatter_kws={\"s\": 100})\n",
    "\n",
    "    plt.scatter(x, y, c='r', s=10)\n",
    "    plt.title('Decision boundary')\n",
    "    plt.show()"
   ]
  },
  {
   "cell_type": "code",
   "execution_count": 39,
   "metadata": {},
   "outputs": [],
   "source": [
    "def feature_mapped_logistic_regression(power, lambd):\n",
    "#     \"\"\"for drawing purpose only.. not a well generealize logistic regression\n",
    "#     power: int\n",
    "#         raise x1, x2 to polynomial power\n",
    "#     lambd: int\n",
    "#         lambda constant for regularization term\n",
    "#     \"\"\"\n",
    "    df = pd.read_csv('hw5data2.txt', names=['test1', 'test2', 'accepted'])\n",
    "    x1 = np.array(df.test1)\n",
    "    x2 = np.array(df.test2)\n",
    "    y = get_y(df)\n",
    "\n",
    "    X = feature_mapping(x1, x2, power, as_ndarray=True)\n",
    "    theta = np.zeros(X.shape[1])\n",
    "\n",
    "    res = opt.minimize(fun=regularized_cost,\n",
    "                       x0=theta,\n",
    "                       args=(X, y, lambd),\n",
    "                       method='TNC',\n",
    "                       jac=regularized_gradient)\n",
    "    final_theta = res.x\n",
    "\n",
    "    return final_theta"
   ]
  },
  {
   "cell_type": "code",
   "execution_count": 40,
   "metadata": {},
   "outputs": [],
   "source": [
    "def find_decision_boundary(density, power, theta, threshhold):\n",
    "    t1 = np.linspace(-1, 1.5, density)\n",
    "    t2 = np.linspace(-1, 1.5, density)\n",
    "\n",
    "    cordinates = [(x, y) for x in t1 for y in t2]\n",
    "    x_cord, y_cord = zip(*cordinates)\n",
    "    mapped_cord = feature_mapping(x_cord, y_cord, power)  # this is a dataframe\n",
    "\n",
    "    inner_product = mapped_cord.to_numpy() @ theta\n",
    "\n",
    "    decision = mapped_cord[np.abs(inner_product) < threshhold]\n",
    "\n",
    "    return decision.f10, decision.f01\n",
    "#寻找决策边界函数"
   ]
  },
  {
   "cell_type": "code",
   "execution_count": 41,
   "metadata": {
    "scrolled": false
   },
   "outputs": [
    {
     "name": "stderr",
     "output_type": "stream",
     "text": [
      "C:\\ProgramData\\Anaconda3\\lib\\site-packages\\seaborn\\_decorators.py:36: FutureWarning: Pass the following variables as keyword args: x, y. From version 0.12, the only valid positional argument will be `data`, and passing other arguments without an explicit keyword will result in an error or misinterpretation.\n",
      "  warnings.warn(\n",
      "C:\\ProgramData\\Anaconda3\\lib\\site-packages\\seaborn\\regression.py:580: UserWarning: The `size` parameter has been renamed to `height`; please update your code.\n",
      "  warnings.warn(msg, UserWarning)\n"
     ]
    },
    {
     "data": {
      "image/png": "[encoded data removed]",
      "text/plain": [
       "<Figure size 446.325x360 with 1 Axes>"
      ]
     },
     "metadata": {},
     "output_type": "display_data"
    }
   ],
   "source": [
    "draw_boundary(power=6, lambd=1)#lambda=1"
   ]
  },
  {
   "cell_type": "code",
   "execution_count": 42,
   "metadata": {},
   "outputs": [
    {
     "name": "stderr",
     "output_type": "stream",
     "text": [
      "C:\\ProgramData\\Anaconda3\\lib\\site-packages\\seaborn\\_decorators.py:36: FutureWarning: Pass the following variables as keyword args: x, y. From version 0.12, the only valid positional argument will be `data`, and passing other arguments without an explicit keyword will result in an error or misinterpretation.\n",
      "  warnings.warn(\n",
      "C:\\ProgramData\\Anaconda3\\lib\\site-packages\\seaborn\\regression.py:580: UserWarning: The `size` parameter has been renamed to `height`; please update your code.\n",
      "  warnings.warn(msg, UserWarning)\n"
     ]
    },
    {
     "data": {
      "image/png": "[encoded data removed]",
      "text/plain": [
       "<Figure size 446.325x360 with 1 Axes>"
      ]
     },
     "metadata": {},
     "output_type": "display_data"
    }
   ],
   "source": [
    "draw_boundary(power=6, lambd=0)  # no regularization, over fitting，#lambda=0,没有正则化，过拟合了"
   ]
  },
  {
   "cell_type": "code",
   "execution_count": 43,
   "metadata": {},
   "outputs": [
    {
     "name": "stderr",
     "output_type": "stream",
     "text": [
      "C:\\ProgramData\\Anaconda3\\lib\\site-packages\\seaborn\\_decorators.py:36: FutureWarning: Pass the following variables as keyword args: x, y. From version 0.12, the only valid positional argument will be `data`, and passing other arguments without an explicit keyword will result in an error or misinterpretation.\n",
      "  warnings.warn(\n",
      "C:\\ProgramData\\Anaconda3\\lib\\site-packages\\seaborn\\regression.py:580: UserWarning: The `size` parameter has been renamed to `height`; please update your code.\n",
      "  warnings.warn(msg, UserWarning)\n"
     ]
    },
    {
     "data": {
      "image/png": "[encoded data removed]",
      "text/plain": [
       "<Figure size 446.325x360 with 1 Axes>"
      ]
     },
     "metadata": {},
     "output_type": "display_data"
    }
   ],
   "source": [
    "draw_boundary(power=6, lambd=100)  # underfitting，#lambda=100,欠拟合"
   ]
  },
  {
   "cell_type": "markdown",
   "metadata": {},
   "source": [
    "2.8节延续2.7节向我们展示了恰当拟合、过拟合与欠拟合的情况。"
   ]
  },
  {
   "cell_type": "markdown",
   "metadata": {},
   "source": [
    "### 祝贺！你已完成本次作业！"
   ]
  }
 ],
 "metadata": {
  "anaconda-cloud": {},
  "kernelspec": {
   "display_name": "PyCharm (ai-hw4-Linear Regression)",
   "language": "python",
   "name": "pycharm-cb30329b"
  },
  "language_info": {
   "codemirror_mode": {
    "name": "ipython",
    "version": 3
   },
   "file_extension": ".py",
   "mimetype": "text/x-python",
   "name": "python",
   "nbconvert_exporter": "python",
   "pygments_lexer": "ipython3",
   "version": "3.8.5"
  }
 },
 "nbformat": 4,
 "nbformat_minor": 1
}