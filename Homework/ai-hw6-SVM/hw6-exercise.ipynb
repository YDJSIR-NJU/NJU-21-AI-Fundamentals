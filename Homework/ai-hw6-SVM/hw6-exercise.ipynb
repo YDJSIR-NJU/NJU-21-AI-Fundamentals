{
 "cells": [
  {
   "cell_type": "markdown",
   "metadata": {},
   "source": [
    "## 机器学习作业 6 - 支持向量机的应用"
   ]
  },
  {
   "cell_type": "markdown",
   "metadata": {},
   "source": [
    "### 在本作业练习中，我们将使用支持向量机（SVM）来构建垃圾邮件分类器。本次作业内容包括：\n",
    "\n",
    "（1）从一些简单的2D数据集开始使用SVM来查看它们的工作原理。 观察不同的C值对分类结果的影响，了解高斯核函数用于非线性分类的用法。\n",
    "\n",
    "（2）对一组原始电子邮件进行一些预处理工作，并使用SVM在处理的电子邮件上构建分类器，以确定它们是否为垃圾邮件。"
   ]
  },
  {
   "cell_type": "markdown",
   "metadata": {},
   "source": [
    "### 1. 观察不同的C值对分类效果的影响。"
   ]
  },
  {
   "cell_type": "code",
   "execution_count": 1,
   "metadata": {
    "pycharm": {
     "is_executing": false
    }
   },
   "outputs": [],
   "source": [
    "import numpy as np\n",
    "import pandas as pd\n",
    "import matplotlib.pyplot as plt\n",
    "import seaborn as sb\n",
    "from scipy.io import loadmat\n",
    "%matplotlib inline"
   ]
  },
  {
   "cell_type": "markdown",
   "metadata": {},
   "source": [
    "（1）将数据用散点图表示，其中类标签由符号表示（+表示正类，o表示负类）"
   ]
  },
  {
   "cell_type": "code",
   "execution_count": 2,
   "metadata": {
    "pycharm": {
     "is_executing": false
    },
    "scrolled": true
   },
   "outputs": [
    {
     "name": "stdout",
     "text": [
      "Positive数量21\n",
      "Negative数量30\n"
     ],
     "output_type": "stream"
    },
    {
     "data": {
      "text/plain": "<Figure size 432x288 with 1 Axes>",
      "image/png": "[encoded data removed]"
     },
     "metadata": {
      "needs_background": "light"
     },
     "output_type": "display_data"
    }
   ],
   "source": [
    "raw_data = loadmat('data/hw6data1.mat')\n",
    "\n",
    "data = pd.DataFrame(raw_data['X'], columns=['X1', 'X2'])\n",
    "data['y'] = raw_data['y']\n",
    "\n",
    "positive = data[data['y'].isin([1])]\n",
    "negative = data[data['y'].isin([0])]\n",
    "print('Positive数量'+ str(len(positive)))\n",
    "print('Negative数量'+ str(len(negative)))\n",
    "\n",
    "fig, ax = plt.subplots(figsize=(6,4))\n",
    "ax.scatter(positive['X1'], positive['X2'], s=50, marker='x', label='Positive')\n",
    "ax.scatter(negative['X1'], negative['X2'], s=50, marker='o', label='Negative')\n",
    "ax.legend()\n",
    "plt.show()"
   ]
  },
  {
   "cell_type": "code",
   "execution_count": 3,
   "metadata": {
    "pycharm": {
     "is_executing": false
    }
   },
   "outputs": [],
   "source": [
    "def plotDecisionBoundary(clf,data):  # 绘制超平面函数\n",
    "    x_min, x_max=np.array(data['X1']).min(), np.array(data['X1']).max()\n",
    "    y_min, y_max=np.array(data['X2']).min(), np.array(data['X2']).max()\n",
    "    xx, yy=np.meshgrid(np.linspace(x_min,x_max,500),np.linspace(y_min,y_max,500))\n",
    "    Z=clf.predict(np.c_[xx.ravel(),yy.ravel()])\n",
    "    Z=Z.reshape(xx.shape)\n",
    "    plt.contour(xx,yy,Z,colors = 'red') "
   ]
  },
  {
   "cell_type": "markdown",
   "metadata": {},
   "source": [
    "（2）调用scikit-learn中的svm.LinearSVC库来执行SVM。初始的C值为1。关于scikit-learn的帮助，请自行查阅资料学习（http://sklearn.apachecn.org/#/docs/68）"
   ]
  },
  {
   "cell_type": "code",
   "execution_count": 4,
   "metadata": {
    "pycharm": {
     "is_executing": false
    }
   },
   "outputs": [],
   "source": [
    "from sklearn import svm\n",
    "svc = svm.LinearSVC(C=1, loss='hinge', max_iter=1000) # 初始化一个分类器"
   ]
  },
  {
   "cell_type": "markdown",
   "metadata": {},
   "source": [
    "（3）尝试不同的C值，观察对结果的影响。先看一下C=1的结果。"
   ]
  },
  {
   "cell_type": "code",
   "execution_count": 5,
   "metadata": {
    "pycharm": {
     "is_executing": false
    }
   },
   "outputs": [
    {
     "name": "stderr",
     "text": [
      "C:\\ProgramData\\Anaconda3\\lib\\site-packages\\sklearn\\svm\\_base.py:976: ConvergenceWarning: Liblinear failed to converge, increase the number of iterations.\n",
      "  warnings.warn(\"Liblinear failed to converge, increase \"\n"
     ],
     "output_type": "stream"
    },
    {
     "data": {
      "text/plain": "0.9803921568627451"
     },
     "metadata": {},
     "output_type": "execute_result",
     "execution_count": 5
    }
   ],
   "source": [
    "clfs1=svc.fit(data[['X1', 'X2']], data['y']) # 训练分类器\n",
    "svc.score(data[['X1', 'X2']], data['y']) # 计算准确率"
   ]
  },
  {
   "cell_type": "markdown",
   "metadata": {},
   "source": [
    "其次，让我们看看如果C的值越大，会发生什么，例如C=100。"
   ]
  },
  {
   "cell_type": "code",
   "execution_count": 6,
   "metadata": {
    "pycharm": {
     "is_executing": false
    }
   },
   "outputs": [
    {
     "name": "stderr",
     "text": [
      "C:\\ProgramData\\Anaconda3\\lib\\site-packages\\sklearn\\svm\\_base.py:976: ConvergenceWarning: Liblinear failed to converge, increase the number of iterations.\n",
      "  warnings.warn(\"Liblinear failed to converge, increase \"\n"
     ],
     "output_type": "stream"
    },
    {
     "data": {
      "text/plain": "0.9803921568627451"
     },
     "metadata": {},
     "output_type": "execute_result",
     "execution_count": 6
    }
   ],
   "source": [
    "svc2 = svm.LinearSVC(C=100, loss='hinge', max_iter=1000)\n",
    "clfs2=svc2.fit(data[['X1', 'X2']], data['y'])\n",
    "svc2.score(data[['X1', 'X2']], data['y'])"
   ]
  },
  {
   "cell_type": "markdown",
   "metadata": {},
   "source": [
    "<font color=red>请尝试增大C的值</font>，使得准确率接近1的完美分类结果。"
   ]
  },
  {
   "cell_type": "code",
   "execution_count": 7,
   "metadata": {
    "pycharm": {
     "is_executing": false
    }
   },
   "outputs": [],
   "source": [
    "import warnings\n",
    "warnings.filterwarnings(\"ignore\")"
   ]
  },
  {
   "cell_type": "code",
   "execution_count": 8,
   "metadata": {
    "pycharm": {
     "is_executing": false
    }
   },
   "outputs": [
    {
     "name": "stdout",
     "text": [
      "0.5下的score为0.9803921568627451\n",
      "0.6下的score为0.9803921568627451\n",
      "0.7下的score为0.9803921568627451\n",
      "0.8下的score为0.9803921568627451\n",
      "0.9下的score为0.9803921568627451\n",
      "1.0下的score为0.9803921568627451\n",
      "1.1下的score为0.9803921568627451\n",
      "1.2下的score为0.9803921568627451\n",
      "1.3下的score为0.9803921568627451\n",
      "1.4下的score为0.9803921568627451\n",
      "1.5下的score为0.9803921568627451\n",
      "1.6下的score为0.9803921568627451\n",
      "1.7下的score为0.9803921568627451\n",
      "1.8下的score为0.9803921568627451\n",
      "1.9下的score为0.9803921568627451\n",
      "2.0下的score为0.9803921568627451\n",
      "2.1下的score为0.9803921568627451\n",
      "2.2下的score为0.9803921568627451\n",
      "2.3下的score为0.9803921568627451\n",
      "2.4下的score为0.9803921568627451\n",
      "2.5下的score为0.9803921568627451\n",
      "2.6下的score为0.9803921568627451\n",
      "2.7下的score为0.9803921568627451\n",
      "2.8下的score为0.9803921568627451\n",
      "2.9下的score为0.9803921568627451\n",
      "3.0下的score为0.9803921568627451\n",
      "3.1下的score为0.9803921568627451\n",
      "3.2下的score为0.9803921568627451\n",
      "3.3下的score为0.9803921568627451\n",
      "3.4下的score为0.9803921568627451\n",
      "3.5下的score为0.9803921568627451\n",
      "3.6下的score为0.9803921568627451\n",
      "3.7下的score为0.9803921568627451\n",
      "3.8下的score为0.9803921568627451\n",
      "3.9下的score为0.9803921568627451\n",
      "4.0下的score为0.9803921568627451\n",
      "4.1下的score为0.9803921568627451\n",
      "4.2下的score为0.9803921568627451\n",
      "4.3下的score为0.9803921568627451\n",
      "4.4下的score为0.9803921568627451\n",
      "4.5下的score为0.9803921568627451\n",
      "4.6下的score为0.9803921568627451\n",
      "4.7下的score为0.9803921568627451\n",
      "4.8下的score为0.9803921568627451\n",
      "4.9下的score为0.9803921568627451\n",
      "5.0下的score为0.9803921568627451\n",
      "5.1下的score为0.9803921568627451\n",
      "5.2下的score为0.9803921568627451\n",
      "5.3下的score为0.9803921568627451\n",
      "5.4下的score为0.9803921568627451\n",
      "5.5下的score为0.9803921568627451\n",
      "5.6下的score为0.9803921568627451\n",
      "5.7下的score为0.9803921568627451\n",
      "5.8下的score为0.9803921568627451\n",
      "5.9下的score为0.9803921568627451\n",
      "6.0下的score为0.9803921568627451\n",
      "6.1下的score为0.9803921568627451\n",
      "6.2下的score为0.9803921568627451\n",
      "6.3下的score为0.9803921568627451\n",
      "6.4下的score为0.9803921568627451\n",
      "6.5下的score为0.9803921568627451\n",
      "6.6下的score为0.9803921568627451\n",
      "6.7下的score为0.9803921568627451\n",
      "6.8下的score为0.9803921568627451\n",
      "6.9下的score为0.9803921568627451\n",
      "7.0下的score为0.9803921568627451\n",
      "7.1下的score为0.9803921568627451\n",
      "7.2下的score为0.9803921568627451\n",
      "7.3下的score为0.9803921568627451\n",
      "7.4下的score为0.9803921568627451\n",
      "7.5下的score为0.9803921568627451\n",
      "7.6下的score为0.9803921568627451\n",
      "7.7下的score为0.9803921568627451\n",
      "7.8下的score为0.9803921568627451\n",
      "7.9下的score为0.9803921568627451\n",
      "8.0下的score为0.9803921568627451\n",
      "8.1下的score为0.9803921568627451\n",
      "8.2下的score为0.9803921568627451\n",
      "8.3下的score为0.9803921568627451\n",
      "8.4下的score为0.9803921568627451\n",
      "8.5下的score为0.9803921568627451\n",
      "8.6下的score为0.9803921568627451\n",
      "8.7下的score为0.9803921568627451\n",
      "8.8下的score为0.9803921568627451\n",
      "8.9下的score为0.9803921568627451\n",
      "9.0下的score为0.9803921568627451\n",
      "9.1下的score为0.9803921568627451\n",
      "9.2下的score为0.9803921568627451\n",
      "9.3下的score为0.9803921568627451\n",
      "9.4下的score为0.9803921568627451\n",
      "9.5下的score为0.9803921568627451\n",
      "9.6下的score为0.9803921568627451\n",
      "9.7下的score为0.9803921568627451\n",
      "9.8下的score为0.9803921568627451\n",
      "9.9下的score为0.9803921568627451\n",
      "10.0下的score为0.9803921568627451\n",
      "10.1下的score为0.9803921568627451\n",
      "10.2下的score为0.9803921568627451\n",
      "10.3下的score为0.9803921568627451\n",
      "10.4下的score为0.9803921568627451\n",
      "10.5下的score为0.9803921568627451\n",
      "10.6下的score为0.9803921568627451\n",
      "10.7下的score为0.9803921568627451\n",
      "10.8下的score为0.9803921568627451\n",
      "10.9下的score为0.9803921568627451\n",
      "11.0下的score为0.9803921568627451\n",
      "11.1下的score为0.9803921568627451\n",
      "11.2下的score为0.9803921568627451\n",
      "11.3下的score为0.9803921568627451\n",
      "11.4下的score为0.9803921568627451\n",
      "11.5下的score为0.9803921568627451\n",
      "11.6下的score为0.9803921568627451\n",
      "11.7下的score为0.9803921568627451\n",
      "11.8下的score为0.9803921568627451\n",
      "11.9下的score为0.9803921568627451\n",
      "12.0下的score为0.9803921568627451\n",
      "12.1下的score为0.9803921568627451\n",
      "12.2下的score为0.9803921568627451\n",
      "12.3下的score为0.9803921568627451\n",
      "12.4下的score为0.9803921568627451\n",
      "12.5下的score为0.9803921568627451\n",
      "12.6下的score为0.9803921568627451\n",
      "12.7下的score为0.9803921568627451\n",
      "12.8下的score为0.9803921568627451\n",
      "12.9下的score为0.9803921568627451\n",
      "13.0下的score为0.9803921568627451\n",
      "13.1下的score为0.9803921568627451\n",
      "13.2下的score为0.9803921568627451\n",
      "13.3下的score为0.9803921568627451\n",
      "13.4下的score为0.9803921568627451\n",
      "13.5下的score为0.9803921568627451\n",
      "13.6下的score为0.9803921568627451\n",
      "13.7下的score为0.9803921568627451\n",
      "13.8下的score为0.9803921568627451\n",
      "13.9下的score为0.9803921568627451\n",
      "14.0下的score为0.9803921568627451\n",
      "14.1下的score为0.9803921568627451\n",
      "14.2下的score为0.9803921568627451\n",
      "14.3下的score为0.9803921568627451\n",
      "14.4下的score为0.9803921568627451\n",
      "14.5下的score为0.9803921568627451\n",
      "14.6下的score为0.9803921568627451\n",
      "14.7下的score为0.9803921568627451\n",
      "14.8下的score为0.9803921568627451\n",
      "14.9下的score为0.9803921568627451\n",
      "15.0下的score为0.9803921568627451\n",
      "15.1下的score为0.9803921568627451\n",
      "15.2下的score为0.9803921568627451\n",
      "15.3下的score为0.9803921568627451\n",
      "15.4下的score为0.9803921568627451\n",
      "15.5下的score为0.9803921568627451\n",
      "15.6下的score为0.9803921568627451\n",
      "15.7下的score为0.9803921568627451\n",
      "15.8下的score为0.9803921568627451\n",
      "15.9下的score为0.9803921568627451\n",
      "16.0下的score为0.9803921568627451\n",
      "16.1下的score为0.9803921568627451\n",
      "16.2下的score为0.9803921568627451\n",
      "16.3下的score为0.9803921568627451\n",
      "16.4下的score为0.9803921568627451\n",
      "16.5下的score为0.9803921568627451\n",
      "16.6下的score为0.9803921568627451\n",
      "16.7下的score为0.9803921568627451\n",
      "16.8下的score为0.9803921568627451\n",
      "16.9下的score为0.9803921568627451\n",
      "17.0下的score为0.9803921568627451\n",
      "17.1下的score为0.9803921568627451\n",
      "17.2下的score为0.9803921568627451\n",
      "17.3下的score为0.9803921568627451\n",
      "17.4下的score为0.9803921568627451\n",
      "17.5下的score为0.9803921568627451\n",
      "17.6下的score为0.9803921568627451\n",
      "17.7下的score为0.9803921568627451\n",
      "17.8下的score为0.9803921568627451\n",
      "17.9下的score为0.9803921568627451\n",
      "18.0下的score为0.9803921568627451\n",
      "18.1下的score为0.9803921568627451\n",
      "18.2下的score为0.9803921568627451\n",
      "18.3下的score为0.9803921568627451\n",
      "18.4下的score为0.9803921568627451\n",
      "18.5下的score为0.9803921568627451\n",
      "18.6下的score为0.9803921568627451\n",
      "18.7下的score为0.9803921568627451\n",
      "18.8下的score为0.9803921568627451\n",
      "18.9下的score为0.9803921568627451\n",
      "19.0下的score为0.9803921568627451\n",
      "19.1下的score为0.9803921568627451\n",
      "19.2下的score为0.9803921568627451\n",
      "19.3下的score为0.9803921568627451\n",
      "19.4下的score为0.9803921568627451\n",
      "19.5下的score为0.9803921568627451\n",
      "19.6下的score为0.9803921568627451\n",
      "19.7下的score为0.9803921568627451\n",
      "19.8下的score为0.9803921568627451\n",
      "19.9下的score为0.9803921568627451\n",
      "20.0下的score为0.9803921568627451\n",
      "20.1下的score为0.9803921568627451\n",
      "20.2下的score为0.9803921568627451\n",
      "20.3下的score为0.9803921568627451\n",
      "20.4下的score为0.9803921568627451\n",
      "20.5下的score为0.9803921568627451\n",
      "20.6下的score为0.9803921568627451\n",
      "20.7下的score为0.9803921568627451\n",
      "20.8下的score为0.9803921568627451\n",
      "20.9下的score为0.9803921568627451\n",
      "21.0下的score为0.9803921568627451\n",
      "21.1下的score为1.0\n",
      "21.2下的score为0.9803921568627451\n",
      "21.3下的score为0.9803921568627451\n",
      "21.4下的score为0.9803921568627451\n",
      "21.5下的score为0.9803921568627451\n",
      "21.6下的score为0.9803921568627451\n",
      "21.7下的score为0.9803921568627451\n",
      "21.8下的score为0.9803921568627451\n",
      "21.9下的score为0.9803921568627451\n",
      "22.0下的score为0.9803921568627451\n",
      "22.1下的score为0.9803921568627451\n",
      "22.2下的score为0.9803921568627451\n",
      "22.3下的score为0.9803921568627451\n",
      "22.4下的score为0.9803921568627451\n",
      "22.5下的score为0.9803921568627451\n",
      "22.6下的score为0.9803921568627451\n",
      "22.7下的score为0.9803921568627451\n",
      "22.8下的score为0.9803921568627451\n",
      "22.9下的score为0.9803921568627451\n",
      "23.0下的score为0.9803921568627451\n",
      "23.1下的score为0.9803921568627451\n",
      "23.2下的score为0.9803921568627451\n",
      "23.3下的score为0.9803921568627451\n",
      "23.4下的score为0.9803921568627451\n",
      "23.5下的score为0.9803921568627451\n",
      "23.6下的score为0.9803921568627451\n",
      "23.7下的score为0.9803921568627451\n",
      "23.8下的score为0.9803921568627451\n",
      "23.9下的score为0.9803921568627451\n",
      "24.0下的score为0.9803921568627451\n",
      "24.1下的score为0.9803921568627451\n",
      "24.2下的score为0.9803921568627451\n",
      "24.3下的score为0.9803921568627451\n",
      "24.4下的score为0.9803921568627451\n",
      "24.5下的score为0.9803921568627451\n",
      "24.6下的score为0.9803921568627451\n",
      "24.7下的score为0.9803921568627451\n",
      "24.8下的score为0.9803921568627451\n",
      "24.9下的score为0.9803921568627451\n",
      "25.0下的score为0.9803921568627451\n",
      "25.1下的score为0.9803921568627451\n",
      "25.2下的score为0.9803921568627451\n",
      "25.3下的score为0.9803921568627451\n",
      "25.4下的score为0.9803921568627451\n",
      "25.5下的score为0.9803921568627451\n",
      "25.6下的score为0.9803921568627451\n",
      "25.7下的score为0.9803921568627451\n",
      "25.8下的score为0.9803921568627451\n",
      "25.9下的score为0.9803921568627451\n",
      "26.0下的score为0.9803921568627451\n",
      "26.1下的score为0.9803921568627451\n",
      "26.2下的score为0.9803921568627451\n",
      "26.3下的score为0.9803921568627451\n",
      "26.4下的score为0.9803921568627451\n",
      "26.5下的score为0.9803921568627451\n",
      "26.6下的score为0.9803921568627451\n",
      "26.7下的score为0.9803921568627451\n",
      "26.8下的score为0.9803921568627451\n",
      "26.9下的score为0.9803921568627451\n",
      "27.0下的score为0.9803921568627451\n",
      "27.1下的score为0.9803921568627451\n",
      "27.2下的score为0.9803921568627451\n",
      "27.3下的score为0.9803921568627451\n",
      "27.4下的score为0.9803921568627451\n",
      "27.5下的score为0.9803921568627451\n",
      "27.6下的score为0.9803921568627451\n",
      "27.7下的score为0.9803921568627451\n",
      "27.8下的score为0.9803921568627451\n",
      "27.9下的score为0.9803921568627451\n",
      "28.0下的score为0.9803921568627451\n",
      "28.1下的score为0.9803921568627451\n",
      "28.2下的score为0.9803921568627451\n",
      "28.3下的score为0.9803921568627451\n",
      "28.4下的score为0.9803921568627451\n",
      "28.5下的score为0.9803921568627451\n",
      "28.6下的score为0.9803921568627451\n",
      "28.7下的score为0.9803921568627451\n",
      "28.8下的score为0.9803921568627451\n",
      "28.9下的score为0.9803921568627451\n",
      "29.0下的score为0.9803921568627451\n",
      "29.1下的score为0.9803921568627451\n",
      "29.2下的score为0.9803921568627451\n",
      "29.3下的score为0.9803921568627451\n",
      "29.4下的score为0.9803921568627451\n",
      "29.5下的score为0.9803921568627451\n",
      "29.6下的score为0.9803921568627451\n",
      "29.7下的score为0.9803921568627451\n",
      "29.8下的score为0.9803921568627451\n",
      "29.9下的score为0.9803921568627451\n",
      "30.0下的score为0.9803921568627451\n",
      "30.1下的score为0.9803921568627451\n",
      "30.2下的score为0.9803921568627451\n",
      "30.3下的score为0.9803921568627451\n",
      "30.4下的score为0.9803921568627451\n",
      "30.5下的score为0.9803921568627451\n",
      "30.6下的score为0.9803921568627451\n",
      "30.7下的score为0.9803921568627451\n",
      "30.8下的score为0.9803921568627451\n",
      "30.9下的score为0.9803921568627451\n",
      "31.0下的score为0.9803921568627451\n",
      "31.1下的score为0.9803921568627451\n",
      "31.2下的score为0.9803921568627451\n",
      "31.3下的score为0.9803921568627451\n",
      "31.4下的score为0.9803921568627451\n",
      "31.5下的score为0.9803921568627451\n",
      "31.6下的score为0.9803921568627451\n",
      "31.7下的score为0.9803921568627451\n",
      "31.8下的score为0.9803921568627451\n",
      "31.9下的score为0.9803921568627451\n",
      "32.0下的score为0.9803921568627451\n",
      "32.1下的score为0.9803921568627451\n",
      "32.2下的score为0.9803921568627451\n",
      "32.3下的score为0.9803921568627451\n",
      "32.4下的score为0.9803921568627451\n",
      "32.5下的score为0.9803921568627451\n",
      "32.6下的score为0.9803921568627451\n",
      "32.7下的score为0.9803921568627451\n",
      "32.8下的score为0.9803921568627451\n",
      "32.9下的score为0.9803921568627451\n",
      "33.0下的score为0.9803921568627451\n",
      "33.1下的score为0.9803921568627451\n",
      "33.2下的score为0.9803921568627451\n",
      "33.3下的score为0.9803921568627451\n",
      "33.4下的score为0.9803921568627451\n",
      "33.5下的score为0.9803921568627451\n",
      "33.6下的score为0.9803921568627451\n",
      "33.7下的score为0.9803921568627451\n",
      "33.8下的score为0.9803921568627451\n",
      "33.9下的score为0.9803921568627451\n",
      "34.0下的score为0.9803921568627451\n",
      "34.1下的score为0.9803921568627451\n",
      "34.2下的score为0.9803921568627451\n",
      "34.3下的score为0.9803921568627451\n",
      "34.4下的score为0.9803921568627451\n",
      "34.5下的score为0.9803921568627451\n",
      "34.6下的score为0.9803921568627451\n",
      "34.7下的score为0.9803921568627451\n",
      "34.8下的score为0.9803921568627451\n",
      "34.9下的score为0.9803921568627451\n",
      "35.0下的score为0.9803921568627451\n",
      "35.1下的score为0.9803921568627451\n",
      "35.2下的score为0.9803921568627451\n",
      "35.3下的score为0.9803921568627451\n",
      "35.4下的score为0.9803921568627451\n",
      "35.5下的score为0.9803921568627451\n",
      "35.6下的score为0.9803921568627451\n",
      "35.7下的score为0.9803921568627451\n",
      "35.8下的score为0.9803921568627451\n",
      "35.9下的score为0.9803921568627451\n",
      "36.0下的score为0.9803921568627451\n",
      "36.1下的score为0.9803921568627451\n",
      "36.2下的score为0.9803921568627451\n",
      "36.3下的score为0.9803921568627451\n",
      "36.4下的score为0.9803921568627451\n",
      "36.5下的score为0.9803921568627451\n",
      "36.6下的score为0.9803921568627451\n",
      "36.7下的score为0.9803921568627451\n",
      "36.8下的score为0.9803921568627451\n",
      "36.9下的score为0.9803921568627451\n",
      "37.0下的score为0.9803921568627451\n",
      "37.1下的score为0.9803921568627451\n",
      "37.2下的score为0.9803921568627451\n",
      "37.3下的score为0.9803921568627451\n",
      "37.4下的score为0.9803921568627451\n",
      "37.5下的score为0.9803921568627451\n",
      "37.6下的score为0.9803921568627451\n",
      "37.7下的score为0.9803921568627451\n",
      "37.8下的score为0.9803921568627451\n",
      "37.9下的score为0.9803921568627451\n",
      "38.0下的score为0.9803921568627451\n",
      "38.1下的score为0.9803921568627451\n",
      "38.2下的score为0.9803921568627451\n",
      "38.3下的score为0.9803921568627451\n",
      "38.4下的score为0.9803921568627451\n",
      "38.5下的score为0.9803921568627451\n",
      "38.6下的score为0.9803921568627451\n",
      "38.7下的score为0.9803921568627451\n",
      "38.8下的score为0.9803921568627451\n",
      "38.9下的score为0.9803921568627451\n",
      "39.0下的score为0.9803921568627451\n",
      "39.1下的score为0.9803921568627451\n",
      "39.2下的score为0.9803921568627451\n",
      "39.3下的score为0.9803921568627451\n",
      "39.4下的score为0.9803921568627451\n",
      "39.5下的score为0.9803921568627451\n",
      "39.6下的score为0.9803921568627451\n",
      "39.7下的score为0.9803921568627451\n",
      "39.8下的score为0.9803921568627451\n",
      "39.9下的score为0.9803921568627451\n",
      "40.0下的score为0.9803921568627451\n",
      "40.1下的score为0.9803921568627451\n",
      "40.2下的score为0.9803921568627451\n",
      "40.3下的score为0.9803921568627451\n",
      "40.4下的score为0.9803921568627451\n",
      "40.5下的score为0.9803921568627451\n",
      "40.6下的score为0.9803921568627451\n",
      "40.7下的score为0.9803921568627451\n",
      "40.8下的score为0.9803921568627451\n",
      "40.9下的score为0.9803921568627451\n",
      "41.0下的score为0.9803921568627451\n",
      "41.1下的score为0.9803921568627451\n",
      "41.2下的score为0.9803921568627451\n",
      "41.3下的score为0.9803921568627451\n",
      "41.4下的score为0.9803921568627451\n",
      "41.5下的score为0.9803921568627451\n",
      "41.6下的score为0.9803921568627451\n",
      "41.7下的score为0.9803921568627451\n",
      "41.8下的score为0.9803921568627451\n",
      "41.9下的score为0.9803921568627451\n",
      "42.0下的score为0.9803921568627451\n",
      "42.1下的score为0.9803921568627451\n",
      "42.2下的score为0.9803921568627451\n",
      "42.3下的score为0.9803921568627451\n",
      "42.4下的score为0.9803921568627451\n",
      "42.5下的score为0.9803921568627451\n",
      "42.6下的score为0.9803921568627451\n",
      "42.7下的score为0.9803921568627451\n",
      "42.8下的score为0.9803921568627451\n",
      "42.9下的score为0.9803921568627451\n",
      "43.0下的score为0.9803921568627451\n",
      "43.1下的score为0.9803921568627451\n",
      "43.2下的score为0.9803921568627451\n",
      "43.3下的score为0.9803921568627451\n",
      "43.4下的score为0.9803921568627451\n",
      "43.5下的score为0.9803921568627451\n",
      "43.6下的score为0.9803921568627451\n",
      "43.7下的score为0.9803921568627451\n",
      "43.8下的score为0.9803921568627451\n",
      "43.9下的score为0.9803921568627451\n",
      "44.0下的score为0.9803921568627451\n",
      "44.1下的score为0.9803921568627451\n",
      "44.2下的score为0.9803921568627451\n",
      "44.3下的score为0.9803921568627451\n",
      "44.4下的score为0.9803921568627451\n",
      "44.5下的score为0.9803921568627451\n",
      "44.6下的score为0.9803921568627451\n",
      "44.7下的score为0.9803921568627451\n",
      "44.8下的score为0.9803921568627451\n",
      "44.9下的score为0.9803921568627451\n",
      "45.0下的score为0.9803921568627451\n",
      "45.1下的score为0.9803921568627451\n",
      "45.2下的score为0.9803921568627451\n",
      "45.3下的score为0.9803921568627451\n",
      "45.4下的score为0.9803921568627451\n",
      "45.5下的score为0.9803921568627451\n",
      "45.6下的score为0.9803921568627451\n",
      "45.7下的score为0.9803921568627451\n",
      "45.8下的score为0.9803921568627451\n",
      "45.9下的score为0.9803921568627451\n",
      "46.0下的score为0.9803921568627451\n",
      "46.1下的score为0.9803921568627451\n",
      "46.2下的score为0.9803921568627451\n",
      "46.3下的score为0.9803921568627451\n",
      "46.4下的score为0.9803921568627451\n",
      "46.5下的score为0.9803921568627451\n",
      "46.6下的score为0.9803921568627451\n",
      "46.7下的score为0.9803921568627451\n",
      "46.8下的score为0.9803921568627451\n",
      "46.9下的score为0.9803921568627451\n",
      "47.0下的score为0.9803921568627451\n",
      "47.1下的score为0.9803921568627451\n",
      "47.2下的score为0.9803921568627451\n",
      "47.3下的score为0.9803921568627451\n",
      "47.4下的score为0.9803921568627451\n",
      "47.5下的score为0.9803921568627451\n",
      "47.6下的score为0.9803921568627451\n",
      "47.7下的score为0.9803921568627451\n",
      "47.8下的score为0.9803921568627451\n",
      "47.9下的score为0.9803921568627451\n",
      "48.0下的score为0.9803921568627451\n",
      "48.1下的score为0.9803921568627451\n",
      "48.2下的score为0.9803921568627451\n",
      "48.3下的score为0.9803921568627451\n",
      "48.4下的score为0.9803921568627451\n",
      "48.5下的score为0.9803921568627451\n",
      "48.6下的score为0.9803921568627451\n",
      "48.7下的score为0.9803921568627451\n",
      "48.8下的score为0.9803921568627451\n",
      "48.9下的score为0.9803921568627451\n",
      "49.0下的score为0.9803921568627451\n",
      "49.1下的score为0.9803921568627451\n",
      "49.2下的score为0.9803921568627451\n",
      "49.3下的score为0.9803921568627451\n",
      "49.4下的score为0.9803921568627451\n",
      "49.5下的score为0.9803921568627451\n",
      "49.6下的score为0.9803921568627451\n",
      "49.7下的score为0.9803921568627451\n",
      "49.8下的score为0.9803921568627451\n",
      "49.9下的score为0.9803921568627451\n",
      "50.0下的score为0.9803921568627451\n",
      "50.1下的score为0.9803921568627451\n",
      "50.2下的score为0.9803921568627451\n",
      "50.3下的score为0.9803921568627451\n",
      "50.4下的score为0.9803921568627451\n",
      "50.5下的score为0.9803921568627451\n",
      "50.6下的score为0.9803921568627451\n",
      "50.7下的score为0.9803921568627451\n",
      "50.8下的score为0.9803921568627451\n",
      "50.9下的score为0.9803921568627451\n",
      "51.0下的score为0.9803921568627451\n",
      "51.1下的score为0.9803921568627451\n",
      "51.2下的score为0.9803921568627451\n",
      "51.3下的score为0.9803921568627451\n",
      "51.4下的score为0.9803921568627451\n",
      "51.5下的score为0.9803921568627451\n",
      "51.6下的score为0.9803921568627451\n",
      "51.7下的score为0.9803921568627451\n",
      "51.8下的score为0.9803921568627451\n",
      "51.9下的score为0.9803921568627451\n",
      "52.0下的score为0.9803921568627451\n",
      "52.1下的score为0.9803921568627451\n",
      "52.2下的score为0.9803921568627451\n",
      "52.3下的score为0.9803921568627451\n",
      "52.4下的score为0.9803921568627451\n",
      "52.5下的score为0.9803921568627451\n",
      "52.6下的score为0.9803921568627451\n",
      "52.7下的score为0.9803921568627451\n",
      "52.8下的score为0.9803921568627451\n",
      "52.9下的score为0.9803921568627451\n",
      "53.0下的score为0.9803921568627451\n",
      "53.1下的score为0.9803921568627451\n",
      "53.2下的score为0.9803921568627451\n",
      "53.3下的score为0.9803921568627451\n",
      "53.4下的score为0.9803921568627451\n",
      "53.5下的score为0.9803921568627451\n",
      "53.6下的score为0.9803921568627451\n",
      "53.7下的score为0.9803921568627451\n",
      "53.8下的score为0.9803921568627451\n",
      "53.9下的score为0.9803921568627451\n",
      "54.0下的score为0.9803921568627451\n",
      "54.1下的score为0.9803921568627451\n",
      "54.2下的score为0.9803921568627451\n",
      "54.3下的score为0.9803921568627451\n",
      "54.4下的score为0.9803921568627451\n",
      "54.5下的score为0.9803921568627451\n",
      "54.6下的score为0.9803921568627451\n",
      "54.7下的score为0.9803921568627451\n",
      "54.8下的score为0.9803921568627451\n",
      "54.9下的score为0.9803921568627451\n",
      "55.0下的score为0.9803921568627451\n",
      "55.1下的score为0.9803921568627451\n",
      "55.2下的score为0.9803921568627451\n",
      "55.3下的score为0.9803921568627451\n",
      "55.4下的score为0.9803921568627451\n",
      "55.5下的score为0.9803921568627451\n",
      "55.6下的score为0.9803921568627451\n",
      "55.7下的score为0.9803921568627451\n",
      "55.8下的score为0.9803921568627451\n",
      "55.9下的score为0.9803921568627451\n",
      "56.0下的score为0.9803921568627451\n",
      "56.1下的score为0.9803921568627451\n",
      "56.2下的score为0.9803921568627451\n",
      "56.3下的score为0.9803921568627451\n",
      "56.4下的score为0.9803921568627451\n",
      "56.5下的score为0.9803921568627451\n",
      "56.6下的score为0.9803921568627451\n",
      "56.7下的score为0.9803921568627451\n",
      "56.8下的score为0.9803921568627451\n",
      "56.9下的score为0.9803921568627451\n",
      "57.0下的score为0.9803921568627451\n",
      "57.1下的score为0.9803921568627451\n",
      "57.2下的score为0.9803921568627451\n",
      "57.3下的score为0.9803921568627451\n",
      "57.4下的score为0.9803921568627451\n",
      "57.5下的score为0.9803921568627451\n",
      "57.6下的score为0.9803921568627451\n",
      "57.7下的score为0.9803921568627451\n",
      "57.8下的score为0.9803921568627451\n",
      "57.9下的score为0.9803921568627451\n",
      "58.0下的score为0.9803921568627451\n",
      "58.1下的score为0.9803921568627451\n",
      "58.2下的score为0.9803921568627451\n",
      "58.3下的score为0.9803921568627451\n",
      "58.4下的score为0.9803921568627451\n",
      "58.5下的score为0.9803921568627451\n",
      "58.6下的score为0.9803921568627451\n",
      "58.7下的score为0.9803921568627451\n",
      "58.8下的score为0.9803921568627451\n",
      "58.9下的score为0.9803921568627451\n",
      "59.0下的score为0.9803921568627451\n",
      "59.1下的score为0.9803921568627451\n",
      "59.2下的score为0.9803921568627451\n",
      "59.3下的score为0.9803921568627451\n",
      "59.4下的score为0.9803921568627451\n",
      "59.5下的score为0.9803921568627451\n",
      "59.6下的score为0.9803921568627451\n",
      "59.7下的score为0.9803921568627451\n",
      "59.8下的score为0.9803921568627451\n",
      "59.9下的score为0.9803921568627451\n",
      "60.0下的score为0.9803921568627451\n",
      "60.1下的score为0.9803921568627451\n",
      "60.2下的score为0.9803921568627451\n",
      "60.3下的score为0.9803921568627451\n",
      "60.4下的score为0.9803921568627451\n",
      "60.5下的score为0.9803921568627451\n",
      "60.6下的score为0.9803921568627451\n",
      "60.7下的score为0.9803921568627451\n",
      "60.8下的score为0.9803921568627451\n",
      "60.9下的score为0.9803921568627451\n",
      "61.0下的score为0.9803921568627451\n",
      "61.1下的score为0.9803921568627451\n",
      "61.2下的score为0.9803921568627451\n",
      "61.3下的score为0.9803921568627451\n",
      "61.4下的score为0.9803921568627451\n",
      "61.5下的score为0.9803921568627451\n",
      "61.6下的score为0.9803921568627451\n",
      "61.7下的score为0.9803921568627451\n",
      "61.8下的score为0.9803921568627451\n",
      "61.9下的score为0.9803921568627451\n",
      "62.0下的score为0.9803921568627451\n",
      "62.1下的score为0.9803921568627451\n",
      "62.2下的score为0.9803921568627451\n",
      "62.3下的score为0.9803921568627451\n",
      "62.4下的score为0.9803921568627451\n",
      "62.5下的score为0.9803921568627451\n",
      "62.6下的score为0.9803921568627451\n",
      "62.7下的score为0.9411764705882353\n",
      "62.8下的score为0.9803921568627451\n",
      "62.9下的score为0.9803921568627451\n",
      "63.0下的score为0.9803921568627451\n",
      "63.1下的score为0.9803921568627451\n",
      "63.2下的score为0.9803921568627451\n",
      "63.3下的score为0.9607843137254902\n",
      "63.4下的score为0.9803921568627451\n",
      "63.5下的score为0.9803921568627451\n",
      "63.6下的score为0.9803921568627451\n",
      "63.7下的score为0.9803921568627451\n",
      "63.8下的score为0.9803921568627451\n",
      "63.9下的score为0.9803921568627451\n",
      "64.0下的score为0.9803921568627451\n",
      "64.1下的score为0.9803921568627451\n",
      "64.2下的score为0.9803921568627451\n",
      "64.3下的score为0.9803921568627451\n",
      "64.4下的score为0.9803921568627451\n",
      "64.5下的score为0.9411764705882353\n",
      "64.6下的score为0.9607843137254902\n",
      "64.7下的score为0.9803921568627451\n",
      "64.8下的score为1.0\n",
      "64.9下的score为0.9803921568627451\n",
      "65.0下的score为0.9803921568627451\n",
      "65.1下的score为0.9803921568627451\n",
      "65.2下的score为0.9803921568627451\n",
      "65.3下的score为0.9803921568627451\n",
      "65.4下的score为0.9803921568627451\n",
      "65.5下的score为0.9803921568627451\n",
      "65.6下的score为0.9803921568627451\n",
      "65.7下的score为0.9803921568627451\n",
      "65.8下的score为0.9803921568627451\n",
      "65.9下的score为0.9803921568627451\n",
      "66.0下的score为0.9803921568627451\n",
      "66.1下的score为0.9803921568627451\n",
      "66.2下的score为0.9803921568627451\n",
      "66.3下的score为0.9607843137254902\n",
      "66.4下的score为0.9607843137254902\n",
      "66.5下的score为0.9607843137254902\n",
      "66.6下的score为0.9803921568627451\n",
      "66.7下的score为0.9803921568627451\n",
      "66.8下的score为0.9803921568627451\n",
      "66.9下的score为0.9411764705882353\n",
      "67.0下的score为0.9803921568627451\n",
      "67.1下的score为0.9803921568627451\n",
      "67.2下的score为0.9803921568627451\n",
      "67.3下的score为0.9803921568627451\n",
      "67.4下的score为0.9803921568627451\n",
      "67.5下的score为0.9803921568627451\n",
      "67.6下的score为0.9803921568627451\n",
      "67.7下的score为0.9803921568627451\n",
      "67.8下的score为0.9803921568627451\n",
      "67.9下的score为0.9803921568627451\n",
      "68.0下的score为0.9803921568627451\n",
      "68.1下的score为0.9803921568627451\n",
      "68.2下的score为0.9803921568627451\n",
      "68.3下的score为0.9803921568627451\n",
      "68.4下的score为0.9803921568627451\n",
      "68.5下的score为0.9803921568627451\n",
      "68.6下的score为0.9803921568627451\n",
      "68.7下的score为0.9803921568627451\n",
      "68.8下的score为0.9803921568627451\n",
      "68.9下的score为0.9803921568627451\n",
      "69.0下的score为0.9803921568627451\n",
      "69.1下的score为0.9803921568627451\n",
      "69.2下的score为0.9803921568627451\n",
      "69.3下的score为0.9803921568627451\n",
      "69.4下的score为0.9803921568627451\n",
      "69.5下的score为0.9803921568627451\n",
      "69.6下的score为0.9803921568627451\n",
      "69.7下的score为0.9803921568627451\n",
      "69.8下的score为0.9803921568627451\n",
      "69.9下的score为0.9607843137254902\n",
      "70.0下的score为0.9803921568627451\n",
      "70.1下的score为0.9803921568627451\n",
      "70.2下的score为0.9803921568627451\n",
      "70.3下的score为0.9803921568627451\n",
      "70.4下的score为0.9803921568627451\n",
      "70.5下的score为0.9803921568627451\n",
      "70.6下的score为0.9803921568627451\n",
      "70.7下的score为0.9803921568627451\n",
      "70.8下的score为0.9803921568627451\n",
      "70.9下的score为0.9803921568627451\n",
      "71.0下的score为0.9803921568627451\n",
      "71.1下的score为0.9803921568627451\n",
      "71.2下的score为0.9803921568627451\n",
      "71.3下的score为0.9803921568627451\n",
      "71.4下的score为0.9803921568627451\n",
      "71.5下的score为0.9803921568627451\n",
      "71.6下的score为0.9803921568627451\n",
      "71.7下的score为0.9803921568627451\n",
      "71.8下的score为0.9803921568627451\n",
      "71.9下的score为0.9803921568627451\n",
      "72.0下的score为0.9803921568627451\n",
      "72.1下的score为0.9803921568627451\n",
      "72.2下的score为0.9803921568627451\n",
      "72.3下的score为0.9803921568627451\n",
      "72.4下的score为0.9803921568627451\n",
      "72.5下的score为0.9803921568627451\n",
      "72.6下的score为0.9803921568627451\n",
      "72.7下的score为0.9803921568627451\n",
      "72.8下的score为0.9803921568627451\n",
      "72.9下的score为0.9803921568627451\n",
      "73.0下的score为0.9803921568627451\n",
      "73.1下的score为1.0\n",
      "73.2下的score为0.9803921568627451\n",
      "73.3下的score为1.0\n",
      "73.4下的score为0.9803921568627451\n",
      "73.5下的score为0.9803921568627451\n",
      "73.6下的score为1.0\n",
      "73.7下的score为1.0\n",
      "73.8下的score为0.9803921568627451\n",
      "73.9下的score为0.9803921568627451\n",
      "74.0下的score为1.0\n",
      "74.1下的score为0.9803921568627451\n",
      "74.2下的score为0.9411764705882353\n",
      "74.3下的score为0.9411764705882353\n",
      "74.4下的score为0.9411764705882353\n",
      "74.5下的score为1.0\n",
      "74.6下的score为0.9411764705882353\n",
      "74.7下的score为1.0\n",
      "74.8下的score为1.0\n",
      "74.9下的score为0.9411764705882353\n",
      "75.0下的score为0.9411764705882353\n",
      "75.1下的score为0.9411764705882353\n",
      "75.2下的score为0.9215686274509803\n",
      "75.3下的score为0.9803921568627451\n",
      "75.4下的score为0.9803921568627451\n",
      "75.5下的score为0.9411764705882353\n",
      "75.6下的score为0.9803921568627451\n",
      "75.7下的score为0.9803921568627451\n",
      "75.8下的score为0.9803921568627451\n",
      "75.9下的score为0.9411764705882353\n",
      "76.0下的score为0.9411764705882353\n",
      "76.1下的score为0.9803921568627451\n",
      "76.2下的score为0.9803921568627451\n",
      "76.3下的score为0.9411764705882353\n",
      "76.4下的score为1.0\n",
      "76.5下的score为0.9411764705882353\n",
      "76.6下的score为0.9803921568627451\n",
      "76.7下的score为0.9019607843137255\n",
      "76.8下的score为1.0\n",
      "76.9下的score为0.9411764705882353\n",
      "77.0下的score为0.9803921568627451\n",
      "77.1下的score为1.0\n",
      "77.2下的score为0.9803921568627451\n",
      "77.3下的score为1.0\n",
      "77.4下的score为0.9607843137254902\n",
      "77.5下的score为0.9803921568627451\n",
      "77.6下的score为0.9215686274509803\n",
      "77.7下的score为0.9803921568627451\n",
      "77.8下的score为0.9803921568627451\n",
      "77.9下的score为0.9411764705882353\n",
      "78.0下的score为1.0\n",
      "78.1下的score为1.0\n",
      "78.2下的score为0.9803921568627451\n",
      "78.3下的score为0.9411764705882353\n",
      "78.4下的score为0.9411764705882353\n",
      "78.5下的score为1.0\n",
      "78.6下的score为1.0\n",
      "78.7下的score为0.9411764705882353\n",
      "78.8下的score为0.9803921568627451\n",
      "78.9下的score为0.9803921568627451\n",
      "79.0下的score为0.9803921568627451\n",
      "79.1下的score为0.9411764705882353\n",
      "79.2下的score为1.0\n",
      "79.3下的score为0.9411764705882353\n",
      "79.4下的score为0.9411764705882353\n",
      "79.5下的score为0.9803921568627451\n",
      "79.6下的score为1.0\n",
      "79.7下的score为0.9411764705882353\n",
      "79.8下的score为0.9607843137254902\n",
      "79.9下的score为1.0\n",
      "80.0下的score为0.9607843137254902\n",
      "80.1下的score为0.9607843137254902\n",
      "80.2下的score为0.9803921568627451\n",
      "80.3下的score为0.9215686274509803\n",
      "80.4下的score为0.9411764705882353\n",
      "80.5下的score为0.9803921568627451\n",
      "80.6下的score为0.9215686274509803\n",
      "80.7下的score为0.9411764705882353\n",
      "80.8下的score为0.9803921568627451\n",
      "80.9下的score为0.9803921568627451\n",
      "81.0下的score为0.9411764705882353\n",
      "81.1下的score为0.9411764705882353\n",
      "81.2下的score为0.9411764705882353\n",
      "81.3下的score为0.9803921568627451\n",
      "81.4下的score为0.9803921568627451\n",
      "81.5下的score为0.9411764705882353\n",
      "81.6下的score为0.9803921568627451\n",
      "81.7下的score为1.0\n",
      "81.8下的score为0.9411764705882353\n",
      "81.9下的score为1.0\n",
      "82.0下的score为0.9803921568627451\n",
      "82.1下的score为0.9803921568627451\n",
      "82.2下的score为1.0\n",
      "82.3下的score为0.9411764705882353\n",
      "82.4下的score为0.9803921568627451\n",
      "82.5下的score为1.0\n",
      "82.6下的score为0.9803921568627451\n",
      "82.7下的score为0.9803921568627451\n",
      "82.8下的score为0.9803921568627451\n",
      "82.9下的score为0.9019607843137255\n",
      "83.0下的score为0.9803921568627451\n",
      "83.1下的score为1.0\n",
      "83.2下的score为1.0\n",
      "83.3下的score为0.9803921568627451\n",
      "83.4下的score为0.9411764705882353\n",
      "83.5下的score为1.0\n",
      "83.6下的score为1.0\n",
      "83.7下的score为0.9411764705882353\n",
      "83.8下的score为0.9019607843137255\n",
      "83.9下的score为0.9411764705882353\n",
      "84.0下的score为0.9411764705882353\n",
      "84.1下的score为0.9803921568627451\n",
      "84.2下的score为1.0\n",
      "84.3下的score为0.9411764705882353\n",
      "84.4下的score为1.0\n",
      "84.5下的score为0.9803921568627451\n",
      "84.6下的score为0.9411764705882353\n",
      "84.7下的score为0.9411764705882353\n",
      "84.8下的score为1.0\n",
      "84.9下的score为1.0\n",
      "85.0下的score为0.9803921568627451\n",
      "85.1下的score为1.0\n",
      "85.2下的score为0.9411764705882353\n",
      "85.3下的score为0.9803921568627451\n",
      "85.4下的score为1.0\n",
      "85.5下的score为0.9411764705882353\n",
      "85.6下的score为1.0\n",
      "85.7下的score为1.0\n",
      "85.8下的score为0.9803921568627451\n",
      "85.9下的score为0.9803921568627451\n",
      "86.0下的score为0.9411764705882353\n",
      "86.1下的score为0.9803921568627451\n",
      "86.2下的score为1.0\n",
      "86.3下的score为0.9411764705882353\n",
      "86.4下的score为0.9803921568627451\n",
      "86.5下的score为1.0\n",
      "86.6下的score为0.9411764705882353\n",
      "86.7下的score为0.9803921568627451\n",
      "86.8下的score为0.9803921568627451\n",
      "86.9下的score为0.9803921568627451\n",
      "87.0下的score为1.0\n",
      "87.1下的score为0.9803921568627451\n",
      "87.2下的score为0.9803921568627451\n",
      "87.3下的score为1.0\n",
      "87.4下的score为1.0\n",
      "87.5下的score为0.9411764705882353\n",
      "87.6下的score为0.9803921568627451\n",
      "87.7下的score为1.0\n",
      "87.8下的score为0.9411764705882353\n",
      "87.9下的score为1.0\n",
      "88.0下的score为0.9411764705882353\n",
      "88.1下的score为0.9411764705882353\n",
      "88.2下的score为1.0\n",
      "88.3下的score为0.9803921568627451\n",
      "88.4下的score为1.0\n",
      "88.5下的score为0.9803921568627451\n",
      "88.6下的score为0.9411764705882353\n",
      "88.7下的score为0.9803921568627451\n",
      "88.8下的score为1.0\n",
      "88.9下的score为1.0\n",
      "89.0下的score为0.9803921568627451\n",
      "89.1下的score为0.9803921568627451\n",
      "89.2下的score为1.0\n",
      "89.3下的score为0.9607843137254902\n",
      "89.4下的score为0.9411764705882353\n",
      "89.5下的score为1.0\n",
      "89.6下的score为0.9411764705882353\n",
      "89.7下的score为0.9411764705882353\n",
      "89.8下的score为0.9411764705882353\n",
      "89.9下的score为1.0\n",
      "90.0下的score为0.9803921568627451\n",
      "90.1下的score为1.0\n",
      "90.2下的score为1.0\n",
      "90.3下的score为0.9803921568627451\n",
      "90.4下的score为1.0\n",
      "90.5下的score为0.9411764705882353\n",
      "90.6下的score为0.9411764705882353\n",
      "90.7下的score为1.0\n",
      "90.8下的score为0.9803921568627451\n",
      "90.9下的score为0.9411764705882353\n",
      "91.0下的score为0.9803921568627451\n",
      "91.1下的score为1.0\n",
      "91.2下的score为0.9803921568627451\n",
      "91.3下的score为0.9803921568627451\n",
      "91.4下的score为0.9411764705882353\n",
      "91.5下的score为0.9803921568627451\n",
      "91.6下的score为0.9803921568627451\n",
      "91.7下的score为1.0\n",
      "91.8下的score为0.9411764705882353\n",
      "91.9下的score为1.0\n",
      "92.0下的score为0.9803921568627451\n",
      "92.1下的score为0.9411764705882353\n",
      "92.2下的score为0.9411764705882353\n",
      "92.3下的score为0.9411764705882353\n",
      "92.4下的score为0.9411764705882353\n",
      "92.5下的score为1.0\n",
      "92.6下的score为0.9411764705882353\n",
      "92.7下的score为0.9803921568627451\n",
      "92.8下的score为0.9411764705882353\n",
      "92.9下的score为0.9411764705882353\n",
      "93.0下的score为1.0\n",
      "93.1下的score为0.9411764705882353\n",
      "93.2下的score为0.9411764705882353\n",
      "93.3下的score为0.9803921568627451\n",
      "93.4下的score为0.9411764705882353\n",
      "93.5下的score为0.9411764705882353\n",
      "93.6下的score为1.0\n",
      "93.7下的score为1.0\n",
      "93.8下的score为0.9411764705882353\n",
      "93.9下的score为0.9803921568627451\n",
      "94.0下的score为0.9607843137254902\n",
      "94.1下的score为1.0\n",
      "94.2下的score为0.9803921568627451\n",
      "94.3下的score为0.9411764705882353\n",
      "94.4下的score为0.9803921568627451\n",
      "94.5下的score为0.9411764705882353\n",
      "94.6下的score为1.0\n",
      "94.7下的score为1.0\n",
      "94.8下的score为1.0\n",
      "94.9下的score为0.9803921568627451\n",
      "95.0下的score为0.9803921568627451\n",
      "95.1下的score为0.9803921568627451\n",
      "95.2下的score为0.9411764705882353\n",
      "95.3下的score为0.9803921568627451\n",
      "95.4下的score为0.9411764705882353\n",
      "95.5下的score为0.9411764705882353\n",
      "95.6下的score为0.9411764705882353\n",
      "95.7下的score为0.9803921568627451\n",
      "95.8下的score为1.0\n",
      "95.9下的score为0.9411764705882353\n",
      "96.0下的score为0.9411764705882353\n",
      "96.1下的score为1.0\n",
      "96.2下的score为0.9803921568627451\n",
      "96.3下的score为0.9803921568627451\n",
      "96.4下的score为1.0\n",
      "96.5下的score为0.9411764705882353\n",
      "96.6下的score为0.9411764705882353\n",
      "96.7下的score为0.9411764705882353\n",
      "96.8下的score为1.0\n",
      "96.9下的score为1.0\n",
      "97.0下的score为0.9803921568627451\n",
      "97.1下的score为0.9803921568627451\n",
      "97.2下的score为0.8823529411764706\n",
      "97.3下的score为0.9803921568627451\n",
      "97.4下的score为0.9411764705882353\n",
      "97.5下的score为0.9803921568627451\n",
      "97.6下的score为0.9411764705882353\n",
      "97.7下的score为0.9803921568627451\n",
      "97.8下的score为0.9803921568627451\n",
      "97.9下的score为0.9411764705882353\n",
      "98.0下的score为1.0\n",
      "98.1下的score为0.9803921568627451\n",
      "98.2下的score为0.9411764705882353\n",
      "98.3下的score为0.9803921568627451\n",
      "98.4下的score为0.9803921568627451\n",
      "98.5下的score为0.9411764705882353\n",
      "98.6下的score为0.9411764705882353\n",
      "98.7下的score为0.9803921568627451\n",
      "98.8下的score为0.9411764705882353\n",
      "98.9下的score为0.9411764705882353\n",
      "99.0下的score为1.0\n",
      "99.1下的score为1.0\n",
      "99.2下的score为1.0\n",
      "99.3下的score为0.9411764705882353\n",
      "99.4下的score为1.0\n",
      "99.5下的score为0.9803921568627451\n",
      "99.6下的score为0.9411764705882353\n",
      "99.7下的score为0.9803921568627451\n",
      "99.8下的score为0.9803921568627451\n",
      "99.9下的score为1.0\n",
      "100.0下的score为0.9803921568627451\n",
      "100.1下的score为0.9803921568627451\n",
      "100.2下的score为0.9411764705882353\n",
      "100.3下的score为0.9803921568627451\n",
      "100.4下的score为0.9803921568627451\n",
      "准确率最佳结果1.0\n",
      "对应C值21.10000000000003\n"
     ],
     "output_type": "stream"
    },
    {
     "data": {
      "text/plain": "<Figure size 432x288 with 1 Axes>",
      "image/png": "[encoded data removed]"
     },
     "metadata": {
      "needs_background": "light"
     },
     "output_type": "display_data"
    }
   ],
   "source": [
    "origin_C = 0.5\n",
    "best_score = 0\n",
    "best_C = -1\n",
    "tmp_C = origin_C\n",
    "scores = []\n",
    "C_x = []\n",
    "for i in range(0, 1000):\n",
    "    svc_Test = svm.LinearSVC(C=tmp_C, loss='hinge', max_iter=1000)\n",
    "    clfs_Test=svc_Test.fit(data[['X1', 'X2']], data['y'])\n",
    "    tmp_score = svc_Test.score(data[['X1', 'X2']], data['y'])\n",
    "    scores.append(tmp_score)\n",
    "    C_x.append(tmp_C)\n",
    "    print(str(round(tmp_C, 2)) + '下的score为' + str(tmp_score)) \n",
    "    if tmp_score > best_score:\n",
    "        best_score = tmp_score\n",
    "        best_C = tmp_C\n",
    "    tmp_C += 0.1\n",
    "\n",
    "print(\"准确率最佳结果\" + str(best_score))\n",
    "print(\"对应C值\"+ str(best_C))\n",
    "\n",
    "fig, ax = plt.subplots()\n",
    "\n",
    "ax.scatter(C_x, scores, s=5, marker='.', label='score')\n",
    "ax.legend()\n",
    "plt.show()"
   ]
  },
  {
   "cell_type": "markdown",
   "metadata": {},
   "source": [
    "由上面的输出我们发现，随着C的增大，LinearSVC的得分可能出现抖动，这可能是由于数据量过少导致。如在C = 73.4时，可以得到score=1的情形。"
   ]
  },
  {
   "cell_type": "markdown",
   "metadata": {
    "collapsed": true
   },
   "source": [
    "接下来的代码将：\n",
    "\n",
    "a. 查看每个类别预测的<font color=red>置信水平</font>，即样本点与超平面距离的函数。\n",
    "\n",
    "b. 绘制决策边界（超平面）"
   ]
  },
  {
   "cell_type": "code",
   "execution_count": 9,
   "metadata": {
    "pycharm": {
     "is_executing": false
    }
   },
   "outputs": [
    {
     "data": {
      "text/plain": "<Figure size 432x288 with 1 Axes>",
      "image/png": "[encoded data removed]"
     },
     "metadata": {
      "needs_background": "light"
     },
     "output_type": "display_data"
    }
   ],
   "source": [
    "data['SVM 1 Confidence'] = svc.decision_function(data[['X1', 'X2']])\n",
    "\n",
    "fig, ax = plt.subplots(figsize=(6,4))\n",
    "ax.scatter(data['X1'], data['X2'], s=50, c=data['SVM 1 Confidence'], cmap='seismic')\n",
    "plotDecisionBoundary(clfs1,data) \n",
    "ax.set_title('SVM (C=1) Decision Confidence')\n",
    "plt.show()"
   ]
  },
  {
   "cell_type": "code",
   "execution_count": 10,
   "metadata": {
    "pycharm": {
     "is_executing": false
    }
   },
   "outputs": [
    {
     "data": {
      "text/plain": "<Figure size 432x288 with 1 Axes>",
      "image/png": "[encoded data removed]"
     },
     "metadata": {
      "needs_background": "light"
     },
     "output_type": "display_data"
    }
   ],
   "source": [
    "import math\n",
    "data['SVM 2 Confidence'] = svc2.decision_function(data[['X1', 'X2']])\n",
    "    \n",
    "fig, ax = plt.subplots(figsize=(6,4))\n",
    "ax.scatter(data['X1'], data['X2'], s=50, c=data['SVM 2 Confidence'], cmap='seismic')\n",
    "plotDecisionBoundary(clfs2,data) \n",
    "ax.set_title('SVM (C=100) Decision Confidence')\n",
    "plt.show()\n",
    "\n",
    "# 请回答生成的散点图，颜色深浅的含义\n",
    "# 红色和蓝色的深浅分辨代表的含义是：见下面那个Cell"
   ]
  },
  {
   "cell_type": "markdown",
   "metadata": {},
   "source": [
    "生成的散点与原来的数据分布图时一样的。散点颜色的深浅，则代表着LinearSVC的决策函数计算出来的值的绝对值的大小,它与到决策边界的距离正相关。这个值若为负数，则代表预测为Negative的点，对应于图中决策边界下方的蓝色点；这个值若为正数，则代表预测为Positive的点，对应于图中决策边界上方的红色点。"
   ]
  },
  {
   "cell_type": "code",
   "execution_count": 11,
   "metadata": {
    "pycharm": {
     "is_executing": false
    }
   },
   "outputs": [
    {
     "data": {
      "text/plain": "<Figure size 432x288 with 1 Axes>",
      "image/png": "[encoded data removed]"
     },
     "metadata": {
      "needs_background": "light"
     },
     "output_type": "display_data"
    }
   ],
   "source": [
    "svc_BEST = svm.LinearSVC(C=best_C, loss='hinge', max_iter=1000)\n",
    "clfs_BEST=svc_BEST.fit(data[['X1', 'X2']], data['y'])\n",
    "data['SVM BEST Confidence'] = svc_BEST.decision_function(data[['X1', 'X2']])\n",
    "\n",
    "fig, ax = plt.subplots(figsize=(6,4))\n",
    "ax.scatter(data['X1'], data['X2'], s=25, c=data['SVM 2 Confidence'], cmap='seismic')\n",
    "plotDecisionBoundary(clfs2,data) \n",
    "ax.set_title('SVM (C='+ str(round(best_C, 2)) + ') Decision Confidence at highest score')\n",
    "plt.show()"
   ]
  },
  {
   "cell_type": "markdown",
   "metadata": {},
   "source": [
    "## 2. 高斯核函数\n",
    "\n",
    "（1）现在我们将从线性SVM转移到能够使用核函数进行非线性分类的SVM。 \n",
    "我们不使用scikit-learn中内置的高斯核函数，请自行实现。"
   ]
  },
  {
   "cell_type": "code",
   "execution_count": 12,
   "metadata": {
    "pycharm": {
     "is_executing": false
    }
   },
   "outputs": [],
   "source": [
    "# 实现高斯核函数\n",
    "def gaussian_kernel(x1, x2, sigma):\n",
    "    return np.exp(-np.power(x1 - x2, 2).sum() / (2*(sigma ** 2)))\n",
    "#请在这里补充一行代码来完成高斯核函数的实现\n"
   ]
  },
  {
   "cell_type": "code",
   "execution_count": 13,
   "metadata": {
    "pycharm": {
     "is_executing": false
    }
   },
   "outputs": [
    {
     "data": {
      "text/plain": "0.09301448921066349"
     },
     "metadata": {},
     "output_type": "execute_result",
     "execution_count": 13
    }
   ],
   "source": [
    "x1 = np.array([1.0, 1.0, 2.0])\n",
    "x2 = np.array([0.0, 4.0, -1.0])\n",
    "sigma = 2\n",
    "\n",
    "gaussian_kernel(x1, x2, sigma)\n",
    "\n",
    "#此处的结果将在作业的客观题中作答\n"
   ]
  },
  {
   "cell_type": "markdown",
   "metadata": {},
   "source": [
    "（2）接下来，我们换另一个数据集，这次用非线性决策边界。"
   ]
  },
  {
   "cell_type": "code",
   "execution_count": 14,
   "metadata": {
    "pycharm": {
     "is_executing": false
    }
   },
   "outputs": [
    {
     "data": {
      "text/plain": "<Figure size 432x288 with 1 Axes>",
      "image/png": "[encoded data removed]"
     },
     "metadata": {
      "needs_background": "light"
     },
     "output_type": "display_data"
    }
   ],
   "source": [
    "raw_data = loadmat('data/hw6data2.mat')\n",
    "\n",
    "data = pd.DataFrame(raw_data['X'], columns=['X1', 'X2'])\n",
    "data['y'] = raw_data['y']\n",
    "\n",
    "positive = data[data['y'].isin([1])]\n",
    "negative = data[data['y'].isin([0])]\n",
    "\n",
    "fig, ax = plt.subplots(figsize=(6,4))\n",
    "ax.scatter(positive['X1'], positive['X2'], s=30, marker='x', label='Positive')\n",
    "ax.scatter(negative['X1'], negative['X2'], s=30, marker='o', label='Negative')\n",
    "ax.legend()\n",
    "plt.show()"
   ]
  },
  {
   "cell_type": "markdown",
   "metadata": {},
   "source": [
    "（3）对于该数据集，我们将使用内置的高斯核函数RBF构建支持向量机分类器，并检查其对训练数据的准确性。 \n",
    "\n",
    "为了可视化决策边界，这一次我们将根据负样本的预测概率来对点做红色阴影。\n",
    "\n",
    "同时，我们还可以绘制决策边界来进行观察，请自行添加代码。"
   ]
  },
  {
   "cell_type": "code",
   "execution_count": 15,
   "metadata": {
    "pycharm": {
     "is_executing": false
    }
   },
   "outputs": [
    {
     "data": {
      "text/plain": "0.9698725376593279"
     },
     "metadata": {},
     "output_type": "execute_result",
     "execution_count": 15
    }
   ],
   "source": [
    "svc3 = svm.SVC(C=100, gamma=10, kernel='rbf', probability=True)\n",
    "# 查阅svm.SVC相关资料，回答此处的gamma参数和rbf核函数的关系\n",
    "# gamma代表：gamma代表： 核函数系数， gamma=1/2σ^2\n",
    "clfs3=svc3.fit(data[['X1', 'X2']], data['y'])\n",
    "svc3.score(data[['X1', 'X2']], data['y'])"
   ]
  },
  {
   "cell_type": "code",
   "execution_count": 16,
   "metadata": {
    "pycharm": {
     "is_executing": false
    }
   },
   "outputs": [
    {
     "data": {
      "text/plain": "<Figure size 432x288 with 1 Axes>",
      "image/png": "[encoded data removed]"
     },
     "metadata": {
      "needs_background": "light"
     },
     "output_type": "display_data"
    }
   ],
   "source": [
    "data['Probability'] = svc3.predict_proba(data[['X1', 'X2']])[:,0]\n",
    "\n",
    "fig, ax = plt.subplots(figsize=(6,4))\n",
    "# 此处补充一行代码绘制决策边界\n",
    "plotDecisionBoundary(clfs3,data)\n",
    "ax.scatter(data['X1'], data['X2'], s=30, c=data['Probability'], cmap='Reds')\n",
    "plt.show()"
   ]
  },
  {
   "cell_type": "markdown",
   "metadata": {},
   "source": [
    "## 3. 寻找最优参数\n",
    "接下来，我们使用第三个数据集，该数据集包括训练和验证集，并且基于验证集性能为SVM模型找到最优超参数。\n",
    "尽管我们可以使用scikit-learn的内置网格搜索来做到这一点，但是为了帮助大家更好的理解网格搜索原理，我们将从头开始实现一个简单的网格搜索。"
   ]
  },
  {
   "cell_type": "code",
   "execution_count": 17,
   "metadata": {
    "pycharm": {
     "is_executing": false
    }
   },
   "outputs": [
    {
     "data": {
      "text/plain": "(0.965, {'C': 0.3, 'gamma': 100})"
     },
     "metadata": {},
     "output_type": "execute_result",
     "execution_count": 17
    }
   ],
   "source": [
    "raw_data = loadmat('data/hw6data3.mat')\n",
    "\n",
    "X = raw_data['X']\n",
    "Xval = raw_data['Xval']\n",
    "y = raw_data['y'].ravel()\n",
    "yval = raw_data['yval'].ravel()\n",
    "\n",
    "C_values = [0.01, 0.03, 0.1, 0.3, 1, 3, 10, 30, 100]\n",
    "gamma_values = [0.01, 0.03, 0.1, 0.3, 1, 3, 10, 30, 100]\n",
    "\n",
    "best_score = 0\n",
    "best_params = {'C': None, 'gamma': None}\n",
    "\n",
    "# 暴力搜素……\n",
    "for C in C_values:\n",
    "    for gamma in gamma_values:\n",
    "        #此处补充完善3行代码，完成网格搜索\n",
    "        svc = svm.SVC(C=C, gamma=gamma, kernel='rbf', probability=True)\n",
    "        svc.fit(X, y) # 拟合参数\n",
    "        score = svc.score(Xval, yval) # 这一步利用验证集进行评估\n",
    "        #补充结束\n",
    "        \n",
    "        if score > best_score:\n",
    "            best_score = score\n",
    "            best_params['C'] = C\n",
    "            best_params['gamma'] = gamma\n",
    "\n",
    "best_score, best_params"
   ]
  },
  {
   "cell_type": "markdown",
   "metadata": {},
   "source": [
    "## 构建垃圾邮件过滤器\n",
    "现在，我们开始使用SVM来构建垃圾邮件过滤器。 \n",
    "在本部分的样本数据中，包括spamTrina.mat和spamTest.mat，分别对应的是训练集和测试集。\n",
    "我们已经对垃圾邮件数据进行了预处理：例如，去除邮件中的HTML标记，只保留纯文本信息，将邮件中的字词映射到字典中。"
   ]
  },
  {
   "cell_type": "code",
   "execution_count": 18,
   "metadata": {
    "pycharm": {
     "is_executing": false
    }
   },
   "outputs": [
    {
     "data": {
      "text/plain": "{'__header__': b'MATLAB 5.0 MAT-file, Platform: GLNXA64, Created on: Sun Nov 13 14:27:25 2011',\n '__version__': '1.0',\n '__globals__': [],\n 'X': array([[0, 0, 0, ..., 0, 0, 0],\n        [0, 0, 0, ..., 0, 0, 0],\n        [0, 0, 0, ..., 0, 0, 0],\n        ...,\n        [0, 0, 0, ..., 0, 0, 0],\n        [0, 0, 1, ..., 0, 0, 0],\n        [0, 0, 0, ..., 0, 0, 0]], dtype=uint8),\n 'y': array([[1],\n        [1],\n        [0],\n        ...,\n        [1],\n        [0],\n        [0]], dtype=uint8)}"
     },
     "metadata": {},
     "output_type": "execute_result",
     "execution_count": 18
    }
   ],
   "source": [
    "spam_train = loadmat('data/spamTrain.mat')\n",
    "spam_test = loadmat('data/spamTest.mat')\n",
    "\n",
    "# 观察 spam_train 训练集中的数据\n",
    "spam_train"
   ]
  },
  {
   "cell_type": "code",
   "execution_count": 19,
   "metadata": {
    "pycharm": {
     "is_executing": false
    }
   },
   "outputs": [
    {
     "data": {
      "text/plain": "((4000, 1899), (4000,), (1000, 1899), (1000,))"
     },
     "metadata": {},
     "output_type": "execute_result",
     "execution_count": 19
    }
   ],
   "source": [
    "X = spam_train['X']\n",
    "Xtest = spam_test['Xtest']\n",
    "y = spam_train['y'].ravel()\n",
    "ytest = spam_test['ytest'].ravel()\n",
    "\n",
    "# 观察X, y, Xtest, ytest 形状\n",
    "X.shape, y.shape, Xtest.shape, ytest.shape"
   ]
  },
  {
   "cell_type": "markdown",
   "metadata": {},
   "source": [
    "我们能看到每个邮件已经转换为一个向量，其中1,899个维对应于词汇表中的1,899个单词。 它们的值为二进制，表示邮件中是否存在单词。 我们用测试集数据来评估一下训练的效果。"
   ]
  },
  {
   "cell_type": "code",
   "execution_count": 20,
   "metadata": {
    "pycharm": {
     "is_executing": false
    }
   },
   "outputs": [
    {
     "name": "stdout",
     "text": [
      "Training accuracy = 94.4%\n"
     ],
     "output_type": "stream"
    }
   ],
   "source": [
    "#这里使用svm.SVC的默认参数来进行训练，请回答C和gamma的默认值是多少\n",
    "svc = svm.SVC(gamma='auto')\n",
    "svc.fit(X, y)\n",
    "print('Training accuracy = {0}%'.format(np.round(svc.score(X, y) * 100, 2)))"
   ]
  },
  {
   "cell_type": "code",
   "execution_count": 21,
   "metadata": {
    "pycharm": {
     "is_executing": false
    }
   },
   "outputs": [
    {
     "name": "stdout",
     "text": [
      "Test accuracy = 95.3%\n"
     ],
     "output_type": "stream"
    }
   ],
   "source": [
    "print('Test accuracy = {0}%'.format(np.round(svc.score(Xtest, ytest) * 100, 2)))"
   ]
  },
  {
   "cell_type": "markdown",
   "metadata": {},
   "source": [
    "上面的结果是使用默认参数的，测试集精度已经达到了95.3%，<font color=red>请尝试参数调整来获得更高的精度（如96%以上）</font>。"
   ]
  },
  {
   "cell_type": "code",
   "execution_count": null,
   "metadata": {
    "pycharm": {
     "is_executing": true
    }
   },
   "outputs": [
    {
     "name": "stdout",
     "text": [
      "1下的测试集精度为95.3\n",
      "2下的测试集精度为97.3\n"
     ],
     "output_type": "stream"
    }
   ],
   "source": [
    "origin_C = 1\n",
    "best_score = 0\n",
    "best_C = -1\n",
    "tmp_C = origin_C\n",
    "test_accuracy = []\n",
    "C_x = []\n",
    "for i in range(0, 3):\n",
    "    svc_Test = svm.SVC(C=tmp_C, gamma='auto')\n",
    "    clfs_Test=svc_Test.fit(X, y)\n",
    "    tmp_score = svc_Test.score(Xtest, ytest)\n",
    "    test_accuracy.append(tmp_score)\n",
    "    C_x.append(tmp_C)\n",
    "    print(str(round(tmp_C, 2)) + '下的测试集精度为' + str(round(tmp_score * 100, 2))) \n",
    "    if tmp_score > best_score:\n",
    "        best_score = tmp_score\n",
    "        best_C = tmp_C\n",
    "    tmp_C += 1\n",
    "\n",
    "print(\"测试集精度最佳结果\" + str(round(best_score * 100, 2)))\n",
    "print(\"对应最佳C值\"+ str(best_C))\n",
    "\n",
    "fig, ax = plt.subplots()\n",
    "\n",
    "ax.scatter(C_x, test_accuracy, s=5, marker='.', label='score')\n",
    "ax.legend()\n",
    "plt.show()"
   ]
  },
  {
   "cell_type": "markdown",
   "metadata": {},
   "source": [
    "本次作业到这里就结束了。"
   ]
  }
 ],
 "metadata": {
  "kernelspec": {
   "display_name": "PyCharm (ai-hw4-Linear Regression)",
   "language": "python",
   "name": "pycharm-cb30329b"
  },
  "language_info": {
   "codemirror_mode": {
    "name": "ipython",
    "version": 3
   },
   "file_extension": ".py",
   "mimetype": "text/x-python",
   "name": "python",
   "nbconvert_exporter": "python",
   "pygments_lexer": "ipython3",
   "version": "3.8.5"
  }
 },
 "nbformat": 4,
 "nbformat_minor": 1
}